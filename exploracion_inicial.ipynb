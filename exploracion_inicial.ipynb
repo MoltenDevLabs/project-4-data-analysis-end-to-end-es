{
 "cells": [
  {
   "cell_type": "markdown",
   "metadata": {},
   "source": [
    "# Data Analysis End to End"
   ]
  },
  {
   "cell_type": "markdown",
   "metadata": {},
   "source": [
    "## **<u> Motivaciones para la elección del dataset </u>**\n",
    "\n",
    "**<u> Orígen y autoría </u>**\n",
    "\n",
    "El dataset seleccionado, titulado *'Students Performance Dataset: Academic Success Factors in High School Students'*, ha sido obtenido de Kaggle. El dataset específico se puede encontrar en la URL 'https://www.kaggle.com/datasets/rabieelkharoua/students-performance-dataset/data', y fue creado por Rabie El Kharoua, quien tiene una amplio abanico de datasets en la plataforma, todos ellos de gran calidad.\n",
    "\n",
    "**<u> Razones para seleccionar este dataset </u>**\n",
    "\n",
    "Este dataset es una gran herramienta para explorar y comprender los factores que ingluyen en el rendimiento académico de los estudiantes de secundaria. Poder identificar tales factores no solo enriquece el entendimiento teórico, sino que también tiene aplicaciones prácticas. Como educador esta información puede utilizarse para desarrollar estrategias basadas en datos para promover el éxtio académico de jovenes estudiantes.\n",
    "\n",
    "**<u> Beneficios y contribuciones esperadas </u>**\n",
    "\n",
    "El estudio de este dataset proporcionará insights para poder orientar a los estudiantes de manera correcta y efectiva en su trayectoria académica.\n",
    "\n",
    "**<u> Conclusión </u>**\n",
    "\n",
    "La elección de este dataset se fundamenta en la necesidad de entender mejor los factores que impulsan el éxito académico entre los estudiantes de secundaria. Este conocimiento no solo tiene aplicaciones teóricas, sino que también tiene el potencial de impactar positivamente en la educación de los jovenes de nuestro entorno."
   ]
  },
  {
   "cell_type": "code",
   "execution_count": null,
   "metadata": {},
   "outputs": [],
   "source": [
    "import pandas as pd\n",
    "import numpy as np\n",
    "import matplotlib.pyplot as plt\n",
    "import seaborn as sns"
   ]
  },
  {
   "cell_type": "code",
   "execution_count": null,
   "metadata": {},
   "outputs": [],
   "source": [
    "df = pd.read_csv('./data/Student_performance_data.csv')\n",
    "df"
   ]
  },
  {
   "cell_type": "code",
   "execution_count": null,
   "metadata": {},
   "outputs": [],
   "source": [
    "df.head()"
   ]
  },
  {
   "cell_type": "code",
   "execution_count": null,
   "metadata": {},
   "outputs": [],
   "source": [
    "df.info()"
   ]
  },
  {
   "cell_type": "code",
   "execution_count": null,
   "metadata": {},
   "outputs": [],
   "source": [
    "df.describe()"
   ]
  },
  {
   "cell_type": "code",
   "execution_count": null,
   "metadata": {},
   "outputs": [],
   "source": [
    "df.isnull().sum()"
   ]
  },
  {
   "cell_type": "markdown",
   "metadata": {},
   "source": [
    "## **<u> Descripción de las variables </u>**\n",
    "\n",
    "<u> Información del estudiante </u>\n",
    "\n",
    "* **StudentID**: Número de identificación único de cada estudiante (1001 hasta 3392) *(Categórica, nominal, politómica)*\n",
    "\n",
    "<u> Información demográfica </u>\n",
    "\n",
    "* **Age**: Edad de los estudiantes en años enteros entre 15 y 18 *(Númerica, discreta, razón)*\n",
    "* **Gender**: Genero *(Categórica, nominal, dicotómica)*\n",
    "  * 0 -> hombre \n",
    "  * 1 -> mujer\n",
    "* **Ethnicity**: Étnia de los estudiantes *(Categórica, nominal, politómica)*\n",
    "  * 0 -> Caucasian\n",
    "  * 1 -> African American\n",
    "  * 2 -> Asian\n",
    "  * 3 -> Other\n",
    "* **ParentalEducation**: El nivel de educación de los padres *(Categórica, ordinal, politómica)*\n",
    "  * 0 -> None\n",
    "  * 1 -> High School\n",
    "  * 2 -> Some College\n",
    "  * 3 -> Bachelor's\n",
    "  * 4 -> Higher\n",
    "\n",
    "<u> Hábitos de estudio </u>\n",
    "\n",
    "* **StudyTimeWeekly**: Horas de estudio semanal en horas con decimales entre 0 y 20 *(Númerica, continua, intervalo)*\n",
    "* **Absences**: Numero de absencias en dias enteros entre 0 y 30 *(Númerica, discreta, razón)*\n",
    "* **Tutoring**: El alumno esta 'tutoreado' *(Categórica, nominal, dicotómica)*\n",
    "  * 0 -> No\n",
    "  * 1 -> Si\n",
    "\n",
    "<u> Participación de los padres </u>\n",
    "\n",
    "* **ParentalSupport**: Nivel de participación de los padres *(Categórica, ordinal, politómica)*\n",
    "  * 0 -> None\n",
    "  * 1 -> Low\n",
    "  * 2 -> Moderate\n",
    "  * 3 -> High\n",
    "  * 4 -> Very High\n",
    "\n",
    "<u> Actividades extracurriculares </u>\n",
    "\n",
    "* **Extracurricular**: Participación en actividades extracurriculares *(Categórica, nominal, dicotómica)*\n",
    "  * 0 -> No\n",
    "  * 1 -> Si\n",
    "* **Sports**: Práctica de deporte *(Categórica, nominal, dicotómica)*\n",
    "  * 0 -> No\n",
    "  * 1 -> Si\n",
    "* **Music**: Práctica de música *(Categórica, nominal, dicotómica)*\n",
    "  * 0 -> No\n",
    "  * 1 -> Si\n",
    "* **Volunteering**: Práctica de voluntariado *(Categórica, nominal, dicotómica)*\n",
    "  * 0 -> No\n",
    "  * 1 -> Si\n",
    "\n",
    "<u> Rendimiento académico </u>\n",
    "\n",
    "* **GPA**: Siglas para 'Grade Point Average' que es la media de una puntuación entre 2.0 y 4.0, influenciada por los hábitos de estudio, la participación de los padres y las actividades extracurriculares *(Númerica, continua, intervalo)*\n",
    "\n",
    "<u> Variable objetivo </u>\n",
    "\n",
    "* **GradeClass**: Clasificación de los estudiantes basada en el GPA *(Categórica, ordinal, politómica)*\n",
    "  * 0 -> 'A' (GPA >= 3.5)\n",
    "  * 1 -> 'B' (3.0 <= GPA < 3.5)\n",
    "  * 2 -> 'C' (2.5 <= GPA < 3.0)\n",
    "  * 3 -> 'D' (2.0 <= GPA < 2.5)\n",
    "  * 4 -> 'F' (GPA < 2.0)\n",
    "  \n"
   ]
  },
  {
   "cell_type": "markdown",
   "metadata": {},
   "source": [
    "## **<u> Tratamiento de las variables </u>**"
   ]
  },
  {
   "cell_type": "markdown",
   "metadata": {},
   "source": [
    "#### **Conteo y tasa de alumnos**"
   ]
  },
  {
   "cell_type": "code",
   "execution_count": null,
   "metadata": {},
   "outputs": [],
   "source": [
    "# Conteo del numero de alumnos por cada grado\n",
    "numero_total_alumnos = df['StudentID'].count()\n",
    "numero_alumnos_por_grado = df['GradeClass'].value_counts().sort_index()\n",
    "tasa_alumnos_por_grado = (numero_alumnos_por_grado / numero_total_alumnos) * 100\n",
    "\n",
    "print(f\"El número total de alumnos es: {numero_total_alumnos}\")\n",
    "print(f\"\\nEl numero de alumnos por grado es:\\n{numero_alumnos_por_grado}\")\n",
    "print(f\"\\nLa tasa de alumnos por grado es:\\n{tasa_alumnos_por_grado}\")"
   ]
  },
  {
   "cell_type": "markdown",
   "metadata": {},
   "source": [
    "#### **Separación de las variables númericas y categóricas**"
   ]
  },
  {
   "cell_type": "code",
   "execution_count": null,
   "metadata": {},
   "outputs": [],
   "source": [
    "# Creación de dos variables para separar las variables númericas (y 'GradeClass') y las categóricas\n",
    "variables_numericas = ['StudyTimeWeekly', 'Absences', 'GPA', 'GradeClass']\n",
    "df_numericas = df[variables_numericas]\n",
    "\n",
    "variables_categoricas = ['Age', 'Gender', 'Ethnicity', 'ParentalEducation', 'Tutoring', 'ParentalSupport', 'Extracurricular', 'Sports', 'Music', 'Volunteering']\n",
    "df_categoricas = df[variables_categoricas]\n",
    "\n",
    "print(f\"Dataframe con las variables númericas:\\n{df_numericas}\")\n",
    "print(f\"\\nDataframe con las variables categóricas:\\n{df_categoricas}\")"
   ]
  },
  {
   "cell_type": "markdown",
   "metadata": {},
   "source": [
    "## **<u> Gráficos iniciales </u>**"
   ]
  },
  {
   "cell_type": "markdown",
   "metadata": {},
   "source": [
    "#### **Variables númericas**"
   ]
  },
  {
   "cell_type": "code",
   "execution_count": null,
   "metadata": {},
   "outputs": [],
   "source": [
    "# Gráfico de barras que muestra el número de alumnos en cada grado\n",
    "plt.figure(figsize=(10, 6))\n",
    "barras = plt.bar(numero_alumnos_por_grado.index.astype(str), numero_alumnos_por_grado.values)\n",
    "\n",
    "# Añadir numero y porcentaje encima de cada barra\n",
    "for barra, grado in zip(barras, numero_alumnos_por_grado.index):\n",
    "  h = barra.get_height()\n",
    "  p = tasa_alumnos_por_grado[grado]\n",
    "  plt.text(barra.get_x() + barra.get_width() / 2, h, f'{h:.0f}\\n({p:.1f}%)', ha='center', va='bottom')\n",
    "\n",
    "plt.xlabel('GradeClass')\n",
    "plt.ylabel('Cantidad de alumnos')\n",
    "plt.title('Número de alumnos por GradeClass', fontweight='bold', fontsize=16)\n",
    "\n",
    "plt.show()"
   ]
  },
  {
   "cell_type": "code",
   "execution_count": null,
   "metadata": {},
   "outputs": [],
   "source": [
    "# Gráfico de correlación para las variables númericas vs. GradeClass\n",
    "plt.figure(figsize=(10, 8))\n",
    "sns.heatmap(df_numericas.corr(), annot=True, cmap='coolwarm')\n",
    "plt.title('Correlación entre variables numéricas y GradeClass', fontweight='bold', fontsize=16)\n",
    "plt.show()\n",
    "# GradeClass presenta una fuerte relación con Absences"
   ]
  },
  {
   "cell_type": "code",
   "execution_count": null,
   "metadata": {},
   "outputs": [],
   "source": [
    "# Crear un pairplot de las variables númericas vs. 'GradeClass'\n",
    "sns.pairplot(df_numericas, hue='GradeClass', palette='coolwarm', diag_kind='hist')\n",
    "plt.suptitle('Pairplot de Variables Numéricas vs. GradeClass', y=1.03, fontweight='bold', fontsize=16)\n",
    "plt.show()"
   ]
  },
  {
   "cell_type": "markdown",
   "metadata": {},
   "source": [
    "#### **Variables categóricas**"
   ]
  },
  {
   "cell_type": "code",
   "execution_count": null,
   "metadata": {},
   "outputs": [],
   "source": [
    "# Crear labels de las variables categoricas para mostrar en los gráficos\n",
    "\n",
    "# Definir los diccionarios de mapeo\n",
    "gender_map = {0: 'Hombre', 1: 'Mujer'}\n",
    "ethnicity_map = {0: 'Caucasian', 1: 'African American', 2: 'Asian', 3: 'Other'}\n",
    "parental_education_map = {0: 'None', 1: 'High School', 2: 'Some College', 3: \"Bachelor's\", 4: 'Higher'}\n",
    "tutoring_map = {0: 'No', 1: 'Si'}\n",
    "parental_support_map = {0: 'None', 1: 'Low', 2: 'Moderate', 3: 'High', 4: 'Very High'}\n",
    "extracurricular_map = {0: 'No', 1: 'Si'}\n",
    "sports_map = {0: 'No', 1: 'Si'}\n",
    "music_map = {0: 'No', 1: 'Si'}\n",
    "volunteering_map = {0: 'No', 1: 'Si'}\n",
    "\n",
    "# Copiar el df para no modificar el original\n",
    "df_graficos = df.copy()\n",
    "  \n",
    "# Mapear las variables categóricas\n",
    "df_graficos['Gender'] = df_graficos['Gender'].map(gender_map)\n",
    "df_graficos['Ethnicity'] = df_graficos['Ethnicity'].map(ethnicity_map)\n",
    "df_graficos['ParentalEducation'] = df_graficos['ParentalEducation'].map(parental_education_map)\n",
    "df_graficos['Tutoring'] = df_graficos['Tutoring'].map(tutoring_map)\n",
    "df_graficos['ParentalSupport'] = df_graficos['ParentalSupport'].map(parental_support_map)\n",
    "df_graficos['Extracurricular'] = df_graficos['Extracurricular'].map(extracurricular_map)\n",
    "df_graficos['Sports'] = df_graficos['Sports'].map(sports_map)\n",
    "df_graficos['Music'] = df_graficos['Music'].map(music_map)\n",
    "df_graficos['Volunteering'] = df_graficos['Volunteering'].map(volunteering_map)\n",
    "\n",
    "# Crear la lista de labels para las variables categóricas\n",
    "labels_categoricas = ['Gender', 'Ethnicity', 'ParentalEducation', 'Tutoring', 'ParentalSupport', 'Extracurricular', 'Sports', 'Music', 'Volunteering']"
   ]
  },
  {
   "cell_type": "code",
   "execution_count": null,
   "metadata": {},
   "outputs": [],
   "source": [
    "# Crear gráficos de pastel para ver las proporciones de las variables categóricas\n",
    "fig, ax = plt.subplots(3,3, figsize=(12,10))\n",
    "fig.suptitle('Proporciones en las variables categóricas', fontweight='bold', fontsize=16)\n",
    "\n",
    "# Recorrer la lista para ir creando los gráficos\n",
    "for i, var in enumerate(labels_categoricas):\n",
    "  fila = i // 3\n",
    "  col = i % 3\n",
    "  data = df_graficos[var].value_counts()\n",
    "  ax[fila, col].pie(data, labels=data.index, autopct='%1.1f%%')\n",
    "  ax[fila, col].set_title(var)\n",
    "    \n",
    "plt.tight_layout()\n",
    "plt.show()"
   ]
  },
  {
   "cell_type": "code",
   "execution_count": null,
   "metadata": {},
   "outputs": [],
   "source": [
    "# Crear gráficos de barras para ver las proporciones de cada grado de las variables categóricas\n",
    "fig, ax = plt.subplots(3,3, figsize=(12,10))\n",
    "fig.suptitle('GradeClass vs. variables categóricas', fontweight='bold', fontsize=16)\n",
    "\n",
    "# Recorrer la lista para ir creando los gráficos\n",
    "for i, var in enumerate(labels_categoricas):\n",
    "  fila = i // 3\n",
    "  col = i % 3\n",
    "  sns.countplot(x=var, hue='GradeClass', data=df_graficos, ax=ax[fila, col])\n",
    "  ax[fila, col].set_title(var)\n",
    "\n",
    "plt.tight_layout()\n",
    "plt.show()"
   ]
  },
  {
   "cell_type": "markdown",
   "metadata": {},
   "source": [
    "## **<u> Limpieza </u>**"
   ]
  },
  {
   "cell_type": "markdown",
   "metadata": {},
   "source": [
    "## **<u> Aprendizaje Automático  </u>**"
   ]
  },
  {
   "cell_type": "code",
   "execution_count": null,
   "metadata": {},
   "outputs": [],
   "source": [
    "from sklearn.linear_model import LinearRegression\n",
    "from sklearn.metrics import mean_squared_error, r2_score\n",
    "\n",
    "from sklearn.preprocessing import PolynomialFeatures\n",
    "from sklearn.pipeline import make_pipeline\n",
    "\n",
    "from sklearn.linear_model import Ridge\n",
    "\n",
    "from sklearn.linear_model import Lasso\n",
    "\n",
    "from sklearn.neighbors import KNeighborsRegressor\n",
    "\n",
    "from sklearn.tree import DecisionTreeRegressor\n"
   ]
  },
  {
   "cell_type": "markdown",
   "metadata": {},
   "source": [
    "#### Funciones"
   ]
  },
  {
   "cell_type": "code",
   "execution_count": null,
   "metadata": {},
   "outputs": [],
   "source": [
    "def compare_models(model_dict):\n",
    "    results = []\n",
    "\n",
    "    for name, (mse, r2, pred) in model_dict.items():\n",
    "        stats = [name, mse, r2, pred]\n",
    "        results.append(stats)\n",
    "    # df_results = pd.DataFrame(results, columns=['Modelo', 'Error Cuadrático Medio (MSE)', 'Coeficiente de Determinación (R^2)', 'Predicciones'])\n",
    "    df_results = pd.DataFrame(results, columns=['Modelo', 'MSE', 'R2', 'Predicciones'])\n",
    "    return df_results\n",
    "\n",
    "\n",
    "\n",
    "def gen_graph(x, y_pred, x_name, y_name, title):\n",
    "    plt.figure(figsize=(14,7))\n",
    "\n",
    "    sns.scatterplot(data=df, x=x_name, y=y_name)\n",
    "    plt.plot(x, y_pred, color='red', label='Recta de regresión')\n",
    "    plt.title(title)\n",
    "    plt.savefig('./graph/' + title + '.png')\n"
   ]
  },
  {
   "cell_type": "markdown",
   "metadata": {},
   "source": [
    "#### Programa"
   ]
  },
  {
   "cell_type": "markdown",
   "metadata": {},
   "source": [
    "### Regresion Lineal"
   ]
  },
  {
   "cell_type": "code",
   "execution_count": null,
   "metadata": {},
   "outputs": [],
   "source": [
    "def regresion_lineal(x, y, x_n, y_n):\n",
    "    # Crear un modelo de regresión lineal\n",
    "    model = LinearRegression()\n",
    "\n",
    "    # Ajustar el modelo a los datos\n",
    "    model.fit(x, y)\n",
    "\n",
    "    # Hacer predicciones para todos los valores de X\n",
    "    y_pred = model.predict(x)\n",
    "\n",
    "    mse = mean_squared_error(y, y_pred)\n",
    "    r2 = r2_score(y, y_pred)\n",
    "\n",
    "    gen_graph(x, y, x_n, y_n, 'Modelo de regresión lineal para predecir los resultados')\n",
    "    return mse, r2, y_pred\n",
    "    "
   ]
  },
  {
   "cell_type": "markdown",
   "metadata": {},
   "source": [
    "### Regresión Polinómica"
   ]
  },
  {
   "cell_type": "code",
   "execution_count": null,
   "metadata": {},
   "outputs": [],
   "source": [
    "def regresion_polinomica(x, y, x_n, y_n):\n",
    "    # Crear características polinómicas\n",
    "    poly = PolynomialFeatures(degree=10)  # Cambiar degree para ajustar la complejidad del modelo\n",
    "    x_poly = poly.fit_transform(x)\n",
    "\n",
    "    # Crear el modelo de regresión polinómica\n",
    "    poly_model = LinearRegression()\n",
    "\n",
    "    # Ajustar el modelo a los datos\n",
    "    poly_model.fit(x_poly, y)\n",
    "\n",
    "    # Hacer predicciones\n",
    "    y_poly_pred = poly_model.predict(x_poly)\n",
    "\n",
    "    # Evaluar el modelo\n",
    "    mse_poly = mean_squared_error(y, y_poly_pred)\n",
    "    r2_poly = r2_score(y, y_poly_pred)\n",
    "\n",
    "    gen_graph(x, y_poly_pred, x_n, y_n, 'Modelo de regresión polinómica para predecir los resultados')\n",
    "    return mse_poly, r2_poly, y_poly_pred"
   ]
  },
  {
   "cell_type": "markdown",
   "metadata": {},
   "source": [
    "### Regresión Ridge"
   ]
  },
  {
   "cell_type": "code",
   "execution_count": null,
   "metadata": {},
   "outputs": [],
   "source": [
    "def regresion_ridge(x, y, x_n, y_n):\n",
    "    # Crear el modelo de regresión Ridge\n",
    "    ridge_model = Ridge(alpha=1.0)  # Puedes ajustar alpha para regularización\n",
    "\n",
    "    # Ajustar el modelo a los datos\n",
    "    ridge_model.fit(x, y)\n",
    "\n",
    "    # Hacer predicciones\n",
    "    y_ridge_pred = ridge_model.predict(x)\n",
    "\n",
    "    # Evaluar el modelo\n",
    "    mse_ridge = mean_squared_error(y, y_ridge_pred)\n",
    "    r2_ridge = r2_score(y, y_ridge_pred)\n",
    "\n",
    "    gen_graph(x, y_ridge_pred, x_n, y_n, 'Modelo de regresión Ridge para predecir los resultados')\n",
    "    return mse_ridge, r2_ridge, y_ridge_pred"
   ]
  },
  {
   "cell_type": "markdown",
   "metadata": {},
   "source": [
    "### Regresion de Lasso"
   ]
  },
  {
   "cell_type": "code",
   "execution_count": null,
   "metadata": {},
   "outputs": [],
   "source": [
    "def regresion_lasso(x, y, x_n, y_n):\n",
    "    # Crear el modelo de regresión Lasso\n",
    "    lasso_model = Lasso(alpha=0.1)  # Puedes ajustar alpha para regularización\n",
    "\n",
    "    # Ajustar el modelo a los datos\n",
    "    lasso_model.fit(x, y)\n",
    "\n",
    "    # Hacer predicciones\n",
    "    y_lasso_pred = lasso_model.predict(x)\n",
    "\n",
    "    # Evaluar el modelo\n",
    "    mse_lasso = mean_squared_error(y, y_lasso_pred)\n",
    "    r2_lasso = r2_score(y, y_lasso_pred)\n",
    "\n",
    "    gen_graph(x, y_lasso_pred, x_n, y_n, 'Modelo de regresión Lasso para predecir los resultados')\n",
    "    return mse_lasso, r2_lasso, y_lasso_pred"
   ]
  },
  {
   "cell_type": "markdown",
   "metadata": {},
   "source": [
    "### Regresión KNN"
   ]
  },
  {
   "cell_type": "code",
   "execution_count": null,
   "metadata": {},
   "outputs": [],
   "source": [
    "\n",
    "def regresion_knn(x, y, x_n, y_n):\n",
    "    # Crear el modelo de regresión KNN\n",
    "    knn_model = KNeighborsRegressor(n_neighbors=5)  # Puedes ajustar n_neighbors\n",
    "\n",
    "    # Ajustar el modelo a los datos\n",
    "    knn_model.fit(x, y)\n",
    "\n",
    "    # Hacer predicciones\n",
    "    y_knn_pred = knn_model.predict(x)\n",
    "\n",
    "    # Evaluar el modelo\n",
    "    mse_knn = mean_squared_error(y, y_knn_pred)\n",
    "    r2_knn = r2_score(y, y_knn_pred)\n",
    "\n",
    "    gen_graph(x, y_knn_pred, x_n, y_n, 'Modelo de regresión KNN para predecir los resultados')\n",
    "    return mse_knn, r2_knn, y_knn_pred"
   ]
  },
  {
   "cell_type": "markdown",
   "metadata": {},
   "source": [
    "### Regresión con Árbol de Decisión"
   ]
  },
  {
   "cell_type": "code",
   "execution_count": null,
   "metadata": {},
   "outputs": [],
   "source": [
    "\n",
    "def decision_tree_regressor(x, y, x_n, y_n):\n",
    "    # Crear el modelo de regresión con árbol de decisión\n",
    "    tree_model = DecisionTreeRegressor(max_depth=5)  # Puedes ajustar max_depth\n",
    "\n",
    "    # Ajustar el modelo a los datos\n",
    "    tree_model.fit(x, y)\n",
    "\n",
    "    # Hacer predicciones\n",
    "    y_tree_pred = tree_model.predict(x)\n",
    "\n",
    "    # Evaluar el modelo\n",
    "    mse_tree = mean_squared_error(y, y_tree_pred)\n",
    "    r2_tree = r2_score(y, y_tree_pred)\n",
    "\n",
    "    gen_graph(x, y_tree_pred, x_n, y_n, 'Modelo de regresión con Árbol de Decisión para predecir los resultados')\n",
    "    return mse_tree, r2_tree, y_tree_pred"
   ]
  },
  {
   "cell_type": "code",
   "execution_count": null,
   "metadata": {},
   "outputs": [],
   "source": [
    "x_n = 'GPA'\n",
    "y_n = 'Absences'\n",
    "\n",
    "x = pd.Series(df[x_n])\n",
    "y = pd.Series(df[y_n])\n",
    "\n",
    "\n",
    "# Asegurar que x tenga dos dimensiones (n_samples, n_features)\n",
    "x = x.values.reshape(-1, 1)\n",
    "\n",
    "# Asegurar que y tenga dos dimensiones (n_samples, 1)\n",
    "y = y.values.reshape(-1, 1)\n",
    "\n",
    "models = {'Regresión Lineal': regresion_lineal(x, y, x_n, y_n),\n",
    "              'Regresión Polinomica': regresion_polinomica(x, y, x_n, y_n),\n",
    "              'Regresión Ridge': regresion_ridge(x, y, x_n, y_n),\n",
    "              'Regresión Lasso': regresion_lasso(x, y, x_n, y_n),\n",
    "              'Regresión KNN': regresion_knn(x, y, x_n, y_n),\n",
    "              'Árbol de Decisión': decision_tree_regressor(x, y, x_n, y_n),\n",
    "}\n",
    "\n",
    "comparison = compare_models(models)"
   ]
  },
  {
   "cell_type": "code",
   "execution_count": null,
   "metadata": {},
   "outputs": [],
   "source": [
    "comparison"
   ]
  },
  {
   "cell_type": "code",
   "execution_count": null,
   "metadata": {},
   "outputs": [],
   "source": [
    "import random\n",
    "\n",
    "# Cargar una paleta de colores de seaborn\n",
    "palette = sns.color_palette(\"husl\", n_colors=len(comparison))\n",
    "\n",
    "def get_color(index):\n",
    "    return palette[index]\n",
    "\n",
    "plt.figure(figsize=(14, 7))\n",
    "sns.scatterplot(data=df, x=x_n,  y=y_n, label='Datos originales')\n",
    "\n",
    "# Agregar las predicciones de cada modelo\n",
    "for index, row in comparison.iterrows():\n",
    "    Modelo = row['Modelo']\n",
    "    mse = row['MSE']\n",
    "    r2 = row['R2']\n",
    "    y_pred = row['Predicciones']\n",
    "    # plt.plot(x, y_pred, color=random_color(), label=f'{Modelo} (MSE: {mse:.2f}, R2: {r2:.2f})')\n",
    "    plt.plot(x, y_pred, color=get_color(index), label=f'{Modelo}')\n",
    "\n",
    "\n",
    "plt.title('Comparación de Modelos de Regresión')\n",
    "plt.xlabel('GPA')\n",
    "plt.ylabel('Absences')\n",
    "plt.legend()\n",
    "plt.savefig('./graph/Comparacion_de_Modelos_de_Regression.png')\n",
    "plt.show()"
   ]
  },
  {
   "cell_type": "markdown",
   "metadata": {},
   "source": [
    "### Conclusiones"
   ]
  },
  {
   "cell_type": "code",
   "execution_count": null,
   "metadata": {},
   "outputs": [],
   "source": [
    "# plt.figure(figsize=(14, 7))\n",
    "# sns.scatterplot(data=df, x='GPA', y='Absences', label='Datos originales')\n",
    "\n",
    "# # Agregar las predicciones de cada modelo\n",
    "# plt.plot(x, y_pred, color='blue', label='Regresión Lineal')\n",
    "# plt.plot(x, y_poly_pred, color='red', linestyle='--', label='Regresión Polinómica')\n",
    "# plt.plot(x, y_ridge_pred, color='green', linestyle='-.', label='Regresión Ridge')\n",
    "# plt.plot(x, y_lasso_pred, color='purple', linestyle=':', label='Regresión Lasso')\n",
    "# plt.plot(x, y_knn_pred, color='orange', linestyle='-', label='Regresión KNN')\n",
    "# plt.plot(x, y_tree_pred, color='brown', linestyle='-', label='Regresión con Árbol de Decisión')\n",
    "\n",
    "plt.title('Comparación de Modelos de Regresión')\n",
    "plt.xlabel('GPA')\n",
    "plt.ylabel('Absences')\n",
    "plt.legend()\n",
    "plt.savefig('./graph/Comparacion_de_Modelos_de_Regression.png')\n",
    "plt.show()"
   ]
  }
 ],
 "metadata": {
  "kernelspec": {
   "display_name": "Python 3.10.7 64-bit",
   "language": "python",
   "name": "python3"
  },
  "language_info": {
   "codemirror_mode": {
    "name": "ipython",
    "version": 3
   },
   "file_extension": ".py",
   "mimetype": "text/x-python",
   "name": "python",
   "nbconvert_exporter": "python",
   "pygments_lexer": "ipython3",
   "version": "3.10.7"
  },
  "vscode": {
   "interpreter": {
    "hash": "aee8b7b246df8f9039afb4144a1f6fd8d2ca17a180786b69acc140d282b71a49"
   }
  }
 },
 "nbformat": 4,
 "nbformat_minor": 2
}
