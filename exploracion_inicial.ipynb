{
 "cells": [
  {
   "cell_type": "markdown",
   "metadata": {},
   "source": [
    "## **<u> Motivaciones para la elección del dataset </u>**\n",
    "\n",
    "**<u> Orígen y autoría </u>**\n",
    "\n",
    "El dataset seleccionado, titulado *'Students Performance Dataset: Academic Success Factors in High School Students'*, ha sido obtenido de Kaggle. El dataset específico se puede encontrar en la URL 'https://www.kaggle.com/datasets/rabieelkharoua/students-performance-dataset/data', y fue creado por Rabie El Kharoua, quien tiene una amplio abanico de datasets en la plataforma, todos ellos de gran calidad.\n",
    "\n",
    "**<u> Razones para seleccionar este dataset </u>**\n",
    "\n",
    "Este dataset es una gran herramienta para explorar y comprender los factores que ingluyen en el rendimiento académico de los estudiantes de secundaria. Poder identificar tales factores no solo enriquece el entendimiento teórico, sino que también tiene aplicaciones prácticas. Como educador esta información puede utilizarse para desarrollar estrategias basadas en datos para promover el éxtio académico de jovenes estudiantes.\n",
    "\n",
    "**<u> Beneficios y contribuciones esperadas </u>**\n",
    "\n",
    "El estudio de este dataset proporcionará insights para poder orientar a los estudiantes de manera correcta y efectiva en su trayectoria académica.\n",
    "\n",
    "**<u> Conclusión </u>**\n",
    "\n",
    "La elección de este dataset se fundamenta en la necesidad de entender mejor los factores que impulsan el éxito académico entre los estudiantes de secundaria. Este conocimiento no solo tiene aplicaciones teóricas, sino que también tiene el potencial de impactar positivamente en la educación de los jovenes de nuestro entorno."
   ]
  },
  {
   "cell_type": "code",
   "execution_count": null,
   "metadata": {},
   "outputs": [],
   "source": [
    "import pandas as pd\n",
    "import numpy as np\n",
    "import matplotlib.pyplot as plt\n",
    "import seaborn as sns"
   ]
  },
  {
   "cell_type": "code",
   "execution_count": null,
   "metadata": {},
   "outputs": [],
   "source": [
    "df = pd.read_csv('./data/Student_performance_data.csv')\n",
    "df"
   ]
  },
  {
   "cell_type": "code",
   "execution_count": null,
   "metadata": {},
   "outputs": [],
   "source": [
    "df.head()"
   ]
  },
  {
   "cell_type": "code",
   "execution_count": null,
   "metadata": {},
   "outputs": [],
   "source": [
    "df.info()"
   ]
  },
  {
   "cell_type": "code",
   "execution_count": null,
   "metadata": {},
   "outputs": [],
   "source": [
    "df.describe()"
   ]
  },
  {
   "cell_type": "code",
   "execution_count": null,
   "metadata": {},
   "outputs": [],
   "source": [
    "df.isnull().sum()"
   ]
  },
  {
   "cell_type": "markdown",
   "metadata": {},
   "source": [
    "## **<u> Descripción de las variables </u>**\n",
    "\n",
    "<u> Información del estudiante </u>\n",
    "\n",
    "* **StudentID**: Número de identificación único de cada estudiante (1001 hasta 3392) *(Categórica, nominal, politómica)*\n",
    "\n",
    "<u> Información demográfica </u>\n",
    "\n",
    "* **Age**: Edad de los estudiantes en años enteros entre 15 y 18 *(Númerica, discreta, razón)*\n",
    "* **Gender**: Genero *(Categórica, nominal, dicotómica)*\n",
    "  * 0 -> hombre \n",
    "  * 1 -> mujer\n",
    "* **Ethnicity**: Étnia de los estudiantes *(Categórica, nominal, politómica)*\n",
    "  * 0 -> Caucasian\n",
    "  * 1 -> African American\n",
    "  * 2 -> Asian\n",
    "  * 3 -> Other\n",
    "* **ParentalEducation**: El nivel de educación de los padres *(Categórica, ordinal, politómica)*\n",
    "  * 0 -> None\n",
    "  * 1 -> High School\n",
    "  * 2 -> Some College\n",
    "  * 3 -> Bachelor's\n",
    "  * 4 -> Higher\n",
    "\n",
    "<u> Hábitos de estudio </u>\n",
    "\n",
    "* **StudyTimeWeekly**: Horas de estudio semanal en horas con decimales entre 0 y 20 *(Númerica, continua, intervalo)*\n",
    "* **Absences**: Numero de absencias en dias enteros entre 0 y 30 *(Númerica, discreta, razón)*\n",
    "* **Tutoring**: El alumno esta 'tutoreado' *(Categórica, nominal, dicotómica)*\n",
    "  * 0 -> No\n",
    "  * 1 -> Si\n",
    "\n",
    "<u> Participación de los padres </u>\n",
    "\n",
    "* **ParentalSupport**: Nivel de participación de los padres *(Categórica, ordinal, politómica)*\n",
    "  * 0 -> None\n",
    "  * 1 -> Low\n",
    "  * 2 -> Moderate\n",
    "  * 3 -> High\n",
    "  * 4 -> Very High\n",
    "\n",
    "<u> Actividades extracurriculares </u>\n",
    "\n",
    "* **Extracurricular**: Participación en actividades extracurriculares *(Categórica, nominal, dicotómica)*\n",
    "  * 0 -> No\n",
    "  * 1 -> Si\n",
    "* **Sports**: Práctica de deporte *(Categórica, nominal, dicotómica)*\n",
    "  * 0 -> No\n",
    "  * 1 -> Si\n",
    "* **Music**: Práctica de música *(Categórica, nominal, dicotómica)*\n",
    "  * 0 -> No\n",
    "  * 1 -> Si\n",
    "* **Volunteering**: Práctica de voluntariado *(Categórica, nominal, dicotómica)*\n",
    "  * 0 -> No\n",
    "  * 1 -> Si\n",
    "\n",
    "<u> Variable objetivo </u>\n",
    "\n",
    "* **GPA**: Siglas para 'Grade Point Average' que es la media de una puntuación entre 2.0 y 4.0, influenciada por los hábitos de estudio, la participación de los padres y las actividades extracurriculares *(Númerica, continua, intervalo)*\n",
    "\n",
    "<u> Variable objetivo </u>\n",
    "\n",
    "* **GradeClass**: Clasificación de los estudiantes basada en el GPA *(Categórica, ordinal, politómica)*\n",
    "  * 0 -> 'A' (GPA >= 3.5)\n",
    "  * 1 -> 'B' (3.0 <= GPA < 3.5)\n",
    "  * 2 -> 'C' (2.5 <= GPA < 3.0)\n",
    "  * 3 -> 'D' (2.0 <= GPA < 2.5)\n",
    "  * 4 -> 'F' (GPA < 2.0)\n",
    "  \n"
   ]
  },
  {
   "cell_type": "markdown",
   "metadata": {},
   "source": [
    "## **<u> Estadística descriptiva </u>**"
   ]
  },
  {
   "cell_type": "markdown",
   "metadata": {},
   "source": [
    "#### **Conteo y tasa de alumnos**"
   ]
  },
  {
   "cell_type": "code",
   "execution_count": null,
   "metadata": {},
   "outputs": [],
   "source": [
    "# Conteo del numero de alumnos por cada grado\n",
    "numero_total_alumnos = df['StudentID'].count()\n",
    "numero_alumnos_por_grado = df['GradeClass'].value_counts().sort_index()\n",
    "tasa_alumnos_por_grado = (numero_alumnos_por_grado / numero_total_alumnos) * 100\n",
    "\n",
    "print(f\"El número total de alumnos es: {numero_total_alumnos}\")\n",
    "print(f\"\\nEl numero de alumnos por grado es:\\n{numero_alumnos_por_grado}\")\n",
    "print(f\"\\nLa tasa de alumnos por grado es:\\n{tasa_alumnos_por_grado}\")"
   ]
  },
  {
   "cell_type": "markdown",
   "metadata": {},
   "source": [
    "#### **Separación de las variables númericas y categóricas**"
   ]
  },
  {
   "cell_type": "code",
   "execution_count": null,
   "metadata": {},
   "outputs": [],
   "source": [
    "# Creación de dos variables para separar las variables númericas y las categóricas\n",
    "variables_numericas = ['Age', 'StudyTimeWeekly', 'Absences', 'GPA', 'GradeClass']\n",
    "df_numericas = df[variables_numericas]\n",
    "\n",
    "variables_categoricas = ['Gender', 'Ethnicity', 'ParentalEducation', 'Tutoring', 'ParentalSupport', 'Extracurricular', 'Sports', 'Music', 'Volunteering']\n",
    "df_categoricas = df[variables_categoricas]\n",
    "\n",
    "print(f\"Dataframe con las variables númericas:\\n{df_numericas}\")\n",
    "print(f\"\\nDataframe con las variables categóricas:\\n{df_categoricas}\")"
   ]
  },
  {
   "cell_type": "code",
   "execution_count": null,
   "metadata": {},
   "outputs": [],
   "source": [
    "# Calcular descriptivos de las variables númericas\n",
    "def calcular_estadisticos_descriptivos(df, variables):\n",
    "  estadisticos_por_gradeclass = {}\n",
    "  estadisticos_totales = {}\n",
    "  \n",
    "  for variable in variables:\n",
    "    # Estadisticos por GradeClass\n",
    "    estadisticos_por_gradeclass[variable] = df.groupby('GradeClass')[variable].agg(\n",
    "      ['mean', 'median', lambda x: x.mode().iloc[0], 'std', 'min', 'max', 'skew']\n",
    "      ).rename(columns={'<lambda_0>': 'mode'})\n",
    "    \n",
    "    # Estadoisticos en conjunto\n",
    "    estadisticos_totales[variable] = df[variable].agg(\n",
    "      ['mean', 'median', lambda x: x.mode().iloc[0], 'std', 'min', 'max', 'skew']\n",
    "      ).rename(index={'<lambda>': 'mode'})\n",
    "    \n",
    "  return estadisticos_por_gradeclass, estadisticos_totales\n",
    "\n",
    "estadisticos_por_gradeclass, estadisticos_totales = calcular_estadisticos_descriptivos(df_numericas, variables_numericas)\n",
    "\n",
    "# Imprimir estadísticos descriptivos en conjunto\n",
    "print(\"Estadísticos descriptivos en conjunto:\")\n",
    "for variable, stats in estadisticos_totales.items():\n",
    "    print(f\"\\n{variable} en conjunto:\\n\")\n",
    "    print(stats)\n",
    "\n",
    "# Imprimir estadísticos descriptivos por GradeClass\n",
    "print(\"\\nEstadísticos descriptivos por GradeClass:\")\n",
    "for variable, stats in estadisticos_por_gradeclass.items():\n",
    "    print(f\"\\n{variable} por GradeClass:\\n\")\n",
    "    print(stats)"
   ]
  },
  {
   "cell_type": "markdown",
   "metadata": {},
   "source": [
    "## **<u> Gráficos iniciales </u>**"
   ]
  },
  {
   "cell_type": "markdown",
   "metadata": {},
   "source": [
    "#### **Variables númericas**"
   ]
  },
  {
   "cell_type": "code",
   "execution_count": null,
   "metadata": {},
   "outputs": [],
   "source": [
    "# Gráfico de barras que muestra el número de alumnos en cada grado\n",
    "plt.figure(figsize=(10, 6))\n",
    "barras = plt.bar(numero_alumnos_por_grado.index.astype(str), numero_alumnos_por_grado.values)\n",
    "\n",
    "# Añadir numero y porcentaje encima de cada barra\n",
    "for barra, grado in zip(barras, numero_alumnos_por_grado.index):\n",
    "  h = barra.get_height()\n",
    "  p = tasa_alumnos_por_grado[grado]\n",
    "  plt.text(barra.get_x() + barra.get_width() / 2, h, f'{h:.0f}\\n({p:.1f}%)', ha='center', va='bottom')\n",
    "\n",
    "plt.xlabel('GradeClass')\n",
    "plt.ylabel('Cantidad de alumnos')\n",
    "plt.title('Número de alumnos por GradeClass', fontweight='bold', fontsize=16)\n",
    "\n",
    "plt.show()"
   ]
  },
  {
   "cell_type": "code",
   "execution_count": null,
   "metadata": {},
   "outputs": [],
   "source": [
    "# Histogramas y boxplots para la distribución de las variables numericas\n",
    "def generar_graficos_numericos(df, variables):\n",
    "  fig, ax = plt.subplots(len(variables), 2, figsize=(15, 5 * len(variables)))\n",
    "  fig.suptitle('Distribución de Variables Numéricas', fontweight='bold', fontsize=16)\n",
    "  \n",
    "  for i, variable in enumerate(variables):\n",
    "    # Histogramas\n",
    "    sns.histplot(df[variable], bins=20, kde=True, ax=ax[i, 0])\n",
    "    ax[i, 0].set_title(f'Histograma de {variable}')\n",
    "    ax[i, 0].set_xlabel(variable)\n",
    "    ax[i, 0].set_ylabel('Frecuencia')\n",
    "    \n",
    "    # Boxplots\n",
    "    sns.boxplot(x=df[variable], ax=ax[i, 1])\n",
    "    ax[i, 1].set_title(f'Boxplot de {variable}')\n",
    "    ax[i, 1].set_xlabel(variable)\n",
    "  \n",
    "  plt.tight_layout()\n",
    "  plt.show()\n",
    "\n",
    "generar_graficos_numericos(df_numericas, variables_numericas)"
   ]
  },
  {
   "cell_type": "code",
   "execution_count": null,
   "metadata": {},
   "outputs": [],
   "source": [
    "# Gráficos de violín y boxplots para comparar las variables númericas con GradeClass\n",
    "def comparar_numericas_con_gradeclass(df, variables):\n",
    "  fig, ax = plt.subplots(len(variables), 2, figsize=(15, 5 * len(variables)))\n",
    "  fig.suptitle('Comparación de Variables Numéricas con GradeClass', fontweight='bold', fontsize=16)\n",
    "\n",
    "  for i, variable in enumerate(variables):\n",
    "    # Gráficos de violín\n",
    "    sns.violinplot(x='GradeClass', y=variable, data=df, ax=ax[i, 0])\n",
    "    ax[i, 0].set_title(f'Violin plot de {variable} vs GradeClass')\n",
    "    ax[i, 0].set_xlabel('GradeClass')\n",
    "    ax[i, 0].set_ylabel(variable)\n",
    "    \n",
    "    # Boxplots\n",
    "    sns.boxplot(x='GradeClass', y=variable, data=df, ax=ax[i, 1])\n",
    "    ax[i, 1].set_title(f'Box plot de {variable} vs GradeClass')\n",
    "    ax[i, 1].set_xlabel('GradeClass')\n",
    "    ax[i, 1].set_ylabel(variable)\n",
    "    \n",
    "  plt.tight_layout()\n",
    "  plt.show()\n",
    "  \n",
    "# Generar gráficos comparativos\n",
    "comparar_numericas_con_gradeclass(df_numericas, variables_numericas)"
   ]
  },
  {
   "cell_type": "code",
   "execution_count": null,
   "metadata": {},
   "outputs": [],
   "source": [
    "# Gráfico de correlación para las variables númericas vs. GradeClass\n",
    "plt.figure(figsize=(10, 8))\n",
    "sns.heatmap(df_numericas.corr(), annot=True, cmap='coolwarm')\n",
    "plt.title('Correlación entre variables numéricas y GradeClass', fontweight='bold', fontsize=16)\n",
    "plt.show()\n",
    "# GradeClass presenta una fuerte relación con Absences"
   ]
  },
  {
   "cell_type": "code",
   "execution_count": null,
   "metadata": {},
   "outputs": [],
   "source": [
    "# Crear un pairplot de las variables númericas vs. 'GradeClass'\n",
    "sns.pairplot(df_numericas, hue='GradeClass', palette='coolwarm', diag_kind='hist')\n",
    "plt.suptitle('Pairplot de Variables Numéricas vs. GradeClass', y=1.03, fontweight='bold', fontsize=16)\n",
    "plt.show()"
   ]
  },
  {
   "cell_type": "markdown",
   "metadata": {},
   "source": [
    "#### **Variables categóricas**"
   ]
  },
  {
   "cell_type": "code",
   "execution_count": null,
   "metadata": {},
   "outputs": [],
   "source": [
    "# Crear labels de las variables categoricas para mostrar en los gráficos\n",
    "\n",
    "# Definir los diccionarios de mapeo\n",
    "gender_map = {0: 'Hombre', 1: 'Mujer'}\n",
    "ethnicity_map = {0: 'Caucasian', 1: 'African American', 2: 'Asian', 3: 'Other'}\n",
    "parental_education_map = {0: 'None', 1: 'High School', 2: 'Some College', 3: \"Bachelor's\", 4: 'Higher'}\n",
    "tutoring_map = {0: 'No', 1: 'Si'}\n",
    "parental_support_map = {0: 'None', 1: 'Low', 2: 'Moderate', 3: 'High', 4: 'Very High'}\n",
    "extracurricular_map = {0: 'No', 1: 'Si'}\n",
    "sports_map = {0: 'No', 1: 'Si'}\n",
    "music_map = {0: 'No', 1: 'Si'}\n",
    "volunteering_map = {0: 'No', 1: 'Si'}\n",
    "\n",
    "# Copiar el df para no modificar el original\n",
    "df_graficos = df.copy()\n",
    "  \n",
    "# Mapear las variables categóricas\n",
    "df_graficos['Gender'] = df_graficos['Gender'].map(gender_map)\n",
    "df_graficos['Ethnicity'] = df_graficos['Ethnicity'].map(ethnicity_map)\n",
    "df_graficos['ParentalEducation'] = df_graficos['ParentalEducation'].map(parental_education_map)\n",
    "df_graficos['Tutoring'] = df_graficos['Tutoring'].map(tutoring_map)\n",
    "df_graficos['ParentalSupport'] = df_graficos['ParentalSupport'].map(parental_support_map)\n",
    "df_graficos['Extracurricular'] = df_graficos['Extracurricular'].map(extracurricular_map)\n",
    "df_graficos['Sports'] = df_graficos['Sports'].map(sports_map)\n",
    "df_graficos['Music'] = df_graficos['Music'].map(music_map)\n",
    "df_graficos['Volunteering'] = df_graficos['Volunteering'].map(volunteering_map)\n",
    "\n",
    "# Crear la lista de labels para las variables categóricas\n",
    "labels_categoricas = ['Gender', 'Ethnicity', 'ParentalEducation', 'Tutoring', 'ParentalSupport', 'Extracurricular', 'Sports', 'Music', 'Volunteering']"
   ]
  },
  {
   "cell_type": "code",
   "execution_count": null,
   "metadata": {},
   "outputs": [],
   "source": [
    "# Crear gráficos de pastel para ver las proporciones de las variables categóricas\n",
    "fig, ax = plt.subplots(3,3, figsize=(12,10))\n",
    "fig.suptitle('Proporciones en las variables categóricas', fontweight='bold', fontsize=16)\n",
    "\n",
    "# Recorrer la lista para ir creando los gráficos\n",
    "for i, var in enumerate(labels_categoricas):\n",
    "  fila = i // 3\n",
    "  col = i % 3\n",
    "  data = df_graficos[var].value_counts()\n",
    "  ax[fila, col].pie(data, labels=data.index, autopct='%1.1f%%')\n",
    "  ax[fila, col].set_title(var)\n",
    "    \n",
    "plt.tight_layout()\n",
    "plt.show()"
   ]
  },
  {
   "cell_type": "code",
   "execution_count": null,
   "metadata": {},
   "outputs": [],
   "source": [
    "# Crear gráficos de barras para todas las variables categóricas y dataframes de resumen con conteos y tasas\n",
    "def generar_graficos_categoricas(df, categoria):\n",
    "  total_por_categoria = df.groupby(categoria).size() # Calcular total por categoria\n",
    "  total_categoria_por_grado = df.groupby([categoria, 'GradeClass']).size().unstack() # Conteo de cada categoria por grado\n",
    "    \n",
    "  df_conteo = total_categoria_por_grado.copy() # df para almacenar conteo\n",
    "  df_tasa = pd.DataFrame(index=total_categoria_por_grado.index, columns=total_categoria_por_grado.columns) # df para almacenar tasa\n",
    "    \n",
    "  # Llenar df con conteos y tasas\n",
    "  for grado in total_categoria_por_grado.columns:\n",
    "    for cat in total_categoria_por_grado.index:\n",
    "      conteo = total_categoria_por_grado.loc[cat, grado]\n",
    "      total = total_por_categoria[cat]\n",
    "      tasa = (conteo / total) * 100\n",
    "      df_tasa.loc[cat, grado] = f'{tasa:.2f}%'\n",
    "            \n",
    "  fig, ax = plt.subplots(figsize=(12,6))\n",
    "    \n",
    "  # Posición y ancho de las barras\n",
    "  num_categorias = len(df_conteo.index)\n",
    "  bar_width = 0.8 / num_categorias  # Ajuste dinámico del ancho de las barras según el número de categorias\n",
    "  index = np.arange(len(df_conteo.columns))\n",
    "    \n",
    "  for i, cat in enumerate(df_conteo.index):\n",
    "    bars = ax.bar(index + (i - num_categorias / 2) * bar_width + bar_width / 2, df_conteo.loc[cat], bar_width, label=cat)\n",
    "        \n",
    "    # Añadir etiquetas encima de las barras\n",
    "    for j, bar in enumerate(bars):\n",
    "      height = bar.get_height()\n",
    "      tasa = df_tasa.loc[cat, df_conteo.columns[j]]\n",
    "      ax.text(bar.get_x() + bar.get_width() / 2., height, f'{int(height)}\\n{tasa}', ha='center', va='bottom')\n",
    "    \n",
    "  ax.set_xlabel('Grado')\n",
    "  ax.set_ylabel('Número de alumnos')\n",
    "  ax.set_title(f'Número de alumnos y tasas por {categoria} y grado')\n",
    "  ax.set_xticks(index)\n",
    "  ax.set_xticklabels(df_conteo.columns)\n",
    "  ax.legend()\n",
    "    \n",
    "  plt.show()\n",
    "    \n",
    "  print(f\"Conteos por grado y {categoria}\")\n",
    "  print(df_conteo)\n",
    "  print(f\"\\nTasas por grado y {categoria}\")\n",
    "  print(df_tasa)\n",
    "\n",
    "# Iterar sobre cada variable categórica y generar gráficos\n",
    "for categoria in labels_categoricas:\n",
    "    generar_graficos_categoricas(df_graficos, categoria)"
   ]
  },
  {
   "cell_type": "code",
   "execution_count": null,
   "metadata": {},
   "outputs": [],
   "source": [
    "# Resumen de todos los gráficos juntos de las variables categóricas\n",
    "def generar_graficos_grid(df, categorias):\n",
    "    fig, ax = plt.subplots(3, 3, figsize=(18, 14))\n",
    "    fig.suptitle('GradeClass vs. variables categóricas', fontweight='bold', fontsize=16)\n",
    "\n",
    "    for i, categoria in enumerate(categorias):\n",
    "        total_por_categoria = df.groupby(categoria).size()\n",
    "        total_categoria_por_grado = df.groupby([categoria, 'GradeClass']).size().unstack(fill_value=0)\n",
    "\n",
    "        df_conteo = total_categoria_por_grado.copy()\n",
    "        df_tasa = pd.DataFrame(index=total_categoria_por_grado.index, columns=total_categoria_por_grado.columns)\n",
    "\n",
    "        for grado in total_categoria_por_grado.columns:\n",
    "            for cat in total_categoria_por_grado.index:\n",
    "                conteo = total_categoria_por_grado.loc[cat, grado]\n",
    "                total = total_por_categoria[cat]\n",
    "                tasa = (conteo / total) * 100\n",
    "                df_tasa.loc[cat, grado] = f'{tasa:.2f}%'\n",
    "                \n",
    "        fila = i // 3\n",
    "        col = i % 3\n",
    "\n",
    "        num_categorias = len(df_conteo.index)\n",
    "        bar_width = 0.8 / num_categorias\n",
    "        index = np.arange(len(df_conteo.columns))\n",
    "\n",
    "        for j, cat in enumerate(df_conteo.index):\n",
    "            bars = ax[fila, col].bar(index + (j - num_categorias / 2) * bar_width + bar_width / 2, df_conteo.loc[cat], bar_width, label=cat)\n",
    "\n",
    "            for k, bar in enumerate(bars):\n",
    "                height = bar.get_height()\n",
    "                tasa = df_tasa.loc[cat, df_conteo.columns[k]]\n",
    "                ax[fila, col].text(bar.get_x() + bar.get_width() / 2., height, f'{int(height)}\\n{tasa}', ha='center', va='bottom')\n",
    "\n",
    "        ax[fila, col].set_xlabel('Grado')\n",
    "        ax[fila, col].set_ylabel('Número de alumnos')\n",
    "        ax[fila, col].set_title(categoria)\n",
    "        ax[fila, col].set_xticks(index)\n",
    "        ax[fila, col].set_xticklabels(df_conteo.columns)\n",
    "        ax[fila, col].legend()\n",
    "\n",
    "    plt.tight_layout(rect=[0, 0, 1, 0.96])\n",
    "    plt.show()\n",
    "\n",
    "# Generar gráficos en un grid\n",
    "generar_graficos_grid(df_graficos, labels_categoricas)\n"
   ]
  },
  {
   "cell_type": "code",
   "execution_count": null,
   "metadata": {},
   "outputs": [],
   "source": [
    "# Crear gráficos de barras para ver las proporciones de cada grado de las variables categóricas\n",
    "fig, ax = plt.subplots(3,3, figsize=(18,14))\n",
    "fig.suptitle('GradeClass vs. variables categóricas', fontweight='bold', fontsize=16)\n",
    "\n",
    "# Recorrer la lista para ir creando los gráficos\n",
    "for i, var in enumerate(labels_categoricas):\n",
    "  fila = i // 3\n",
    "  col = i % 3\n",
    "  sns.countplot(x=var, hue='GradeClass', data=df_graficos, ax=ax[fila, col])\n",
    "  ax[fila, col].set_title(var)\n",
    "      \n",
    "plt.tight_layout()\n",
    "plt.show()"
   ]
  }
 ],
 "metadata": {
  "kernelspec": {
   "display_name": "Python 3",
   "language": "python",
   "name": "python3"
  },
  "language_info": {
   "codemirror_mode": {
    "name": "ipython",
    "version": 3
   },
   "file_extension": ".py",
   "mimetype": "text/x-python",
   "name": "python",
   "nbconvert_exporter": "python",
   "pygments_lexer": "ipython3",
   "version": "3.12.4"
  }
 },
 "nbformat": 4,
 "nbformat_minor": 2
}
