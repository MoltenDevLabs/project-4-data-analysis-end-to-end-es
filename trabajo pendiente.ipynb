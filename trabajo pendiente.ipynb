{
 "cells": [
  {
   "cell_type": "markdown",
   "metadata": {},
   "source": [
    "### **Machine Learning**"
   ]
  },
  {
   "cell_type": "markdown",
   "metadata": {},
   "source": [
    "usar regresion en GPA (nmumericos)\n",
    "usar clasificacion multiclase GradeClass\n",
    "\n",
    "Limpiar datos para que haya menos dispersion y se asjusten mas a la linia\n",
    "Correlacion de Spearman de variables para ver las que mas influyen"
   ]
  },
  {
   "cell_type": "markdown",
   "metadata": {},
   "source": [
    "comparison\n",
    "# 0 y 1: modelos de regresion\n",
    "# Falta red neuronal de regresion\n",
    "\n",
    "# Falta random forest , SVm y red neuronal de clasificacion multiclase\n",
    "\n",
    "# 5: es un modelo de clasificacion, usar GradeClass\n",
    "\n",
    "# 2, 3, 4: Eliminar"
   ]
  },
  {
   "cell_type": "markdown",
   "metadata": {},
   "source": [
    "regresiones: lineal, polinomica, svm, regresion red neuronal"
   ]
  },
  {
   "cell_type": "markdown",
   "metadata": {},
   "source": [
    "### **Métodos de transformación y escalado**\n",
    "\n",
    "La preparación de datos para algoritmos de machine learning es un paso importante para asegurar la fiabilidad de los modelos y aumentar su calidad.\n",
    "\n",
    "Para llevar a cabo la transformación y escalado existen diversos métodos y es fundamental comprender cuándo y como utilizarlos. Debido a la naturaleza de los datos de estudiados, el metodo a usar será el StandardScaler.\n",
    "\n",
    "* Escala los datos para que tengan una media de 0 y una desviación estandar de 1.\n",
    "* Se utiliza para centrar y escalar los valores\n",
    "* Se usa cuando los datos se distribuyen normalmente\n",
    "* Para algoritmos sensibles a la escala de los datos, como regresión lineal, regresión logística, SVM, y redes neuronales\n"
   ]
  },
  {
   "cell_type": "markdown",
   "metadata": {},
   "source": [
    "# 3. Machine Learning"
   ]
  }
 ],
 "metadata": {
  "kernelspec": {
   "display_name": "Python 3",
   "language": "python",
   "name": "python3"
  },
  "language_info": {
   "name": "python",
   "version": "3.12.4"
  }
 },
 "nbformat": 4,
 "nbformat_minor": 2
}
