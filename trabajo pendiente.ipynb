{
 "cells": [
  {
   "cell_type": "markdown",
   "metadata": {},
   "source": [
    "### **Machine Learning**"
   ]
  },
  {
   "cell_type": "markdown",
   "metadata": {},
   "source": [
    "usar regresion en GPA (nmumericos)\n",
    "usar clasificacion multiclase GradeClass\n",
    "\n",
    "Limpiar datos para que haya menos dispersion y se asjusten mas a la linia\n",
    "Correlacion de Spearman de variables para ver las que mas influyen"
   ]
  },
  {
   "cell_type": "markdown",
   "metadata": {},
   "source": [
    "comparison\n",
    "# 0 y 1: modelos de regresion\n",
    "# Falta red neuronal de regresion\n",
    "\n",
    "# Falta random forest , SVm y red neuronal de clasificacion multiclase\n",
    "\n",
    "# 5: es un modelo de clasificacion, usar GradeClass\n",
    "\n",
    "# 2, 3, 4: Eliminar"
   ]
  },
  {
   "cell_type": "markdown",
   "metadata": {},
   "source": [
    "regresiones: lineal, polinomica, svm, regresion red neuronal"
   ]
  },
  {
   "cell_type": "markdown",
   "metadata": {},
   "source": [
    "3.2.1 Manejo de Valores Missing\n",
    "En primer lugar, se procedió a la detección de valores nulos presentes en el conjunto de datos. Tras un análisis exhaustivo, se verificó que el dataset no contenía valores missing desde su origen. Este paso es crucial para asegurar la integridad de los datos y evitar posibles sesgos en los análisis posteriores. La ausencia de valores nulos simplifica el proceso de limpieza y garantiza que todas las observaciones estén completas para su análisis.\n",
    "\n",
    "3.2.2 Manejo de Valores Outlier\n",
    "A continuación, se utilizó el método del rango intercuartil (IQR) para detectar valores outlier de forma estadística. El método IQR es una técnica robusta empleada para identificar y manejar valores atípicos en un conjunto de datos.\n",
    "\n",
    "Definición del IQR: El IQR es el rango entre el primer cuartil (Q1) y el tercer cuartil (Q3), y se calcula como la diferencia entre estos dos valores (IQR = Q3 - Q1). Este rango representa la dispersión de la mitad central de los datos.\n",
    "Detección de Outliers: Para detectar valores atípicos, se consideran como tales aquellos puntos que están por debajo de Q1 - 1.5 * IQR o por encima de Q3 + 1.5 * IQR. Los puntos que caen fuera de estos límites se consideran outliers.\n",
    "La utilización de esta metodología ayuda a mejorar la calidad del análisis al eliminar o ajustar los valores extremos que pueden distorsionar los resultados. Los outliers identificados fueron revisados individualmente para decidir si debían ser eliminados o ajustados, dependiendo de si eran errores de registro o valores legítimos que requerían mayor análisis.\n",
    "\n",
    "3.2.3 Elección de la Variable Objetivo\n",
    "El dataset contiene dos variables objetivo: GPA y GradeClass. Para los modelos de machine learning, se necesitó escoger una de ellas. Para realizar esta elección de la mejor variable, se llevaron a cabo diversos tests de correlación:\n",
    "\n",
    "Método de Correlación de Spearman: Evaluó la relación monotónica entre las variables.\n",
    "Prueba t de Student: Comparó las medias de dos grupos.\n",
    "Prueba ANOVA (Análisis de Varianza): Evaluó las diferencias entre las medias de múltiples grupos.\n",
    "Prueba de Independencia de Chi-cuadrado: Analizó la asociación entre variables categóricas.\n",
    "Cada una de estas pruebas se utilizó para comparar las variables objetivo con las diferentes variables independientes. Los resultados de las pruebas mostraron que la variable objetivo GPA presentaba una relación significativa con seis variables independientes, mientras que la variable GradeClass presentaba una relación significativa con cinco variables independientes.\n",
    "\n",
    "Dado que GPA mostró una mayor relación con las variables independientes y proporciona un mayor detalle por ser una variable continua, se eligió esta variable como la variable objetivo para los modelos de machine learning. Esta elección permite un análisis más preciso y detallado del rendimiento académico de los estudiantes."
   ]
  }
 ],
 "metadata": {
  "kernelspec": {
   "display_name": "Python 3",
   "language": "python",
   "name": "python3"
  },
  "language_info": {
   "name": "python",
   "version": "3.12.4"
  }
 },
 "nbformat": 4,
 "nbformat_minor": 2
}
