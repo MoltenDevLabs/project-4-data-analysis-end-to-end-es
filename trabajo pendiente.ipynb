{
 "cells": [
  {
   "cell_type": "markdown",
   "metadata": {},
   "source": [
    "### **Machine Learning**"
   ]
  },
  {
   "cell_type": "markdown",
   "metadata": {},
   "source": [
    "usar regresion en GPA (nmumericos)\n",
    "usar clasificacion multiclase GradeClass\n",
    "\n",
    "Limpiar datos para que haya menos dispersion y se asjusten mas a la linia\n",
    "Correlacion de Spearman de variables para ver las que mas influyen"
   ]
  },
  {
   "cell_type": "markdown",
   "metadata": {},
   "source": [
    "comparison\n",
    "# 0 y 1: modelos de regresion\n",
    "# Falta red neuronal de regresion\n",
    "\n",
    "# Falta random forest , SVm y red neuronal de clasificacion multiclase\n",
    "\n",
    "# 5: es un modelo de clasificacion, usar GradeClass\n",
    "\n",
    "# 2, 3, 4: Eliminar"
   ]
  }
 ],
 "metadata": {
  "kernelspec": {
   "display_name": "Python 3",
   "language": "python",
   "name": "python3"
  },
  "language_info": {
   "name": "python",
   "version": "3.12.4"
  }
 },
 "nbformat": 4,
 "nbformat_minor": 2
}
