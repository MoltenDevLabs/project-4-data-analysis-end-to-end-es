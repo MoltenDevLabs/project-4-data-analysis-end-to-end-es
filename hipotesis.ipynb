{
 "cells": [
  {
   "cell_type": "code",
   "execution_count": 84,
   "metadata": {},
   "outputs": [],
   "source": [
    "import pandas as pd\n",
    "import numpy as np\n",
    "from scipy.stats import trim_mean, mode, skew, gaussian_kde, pearsonr, spearmanr, beta\n",
    "from statsmodels.stats.weightstats import ztest as ztest\n",
    "from statsmodels.stats.proportion import proportions_ztest\n",
    "\n",
    "from scipy.stats import ttest_ind, norm, t, ttest_1samp\n",
    "from scipy.stats import f_oneway\n",
    "from scipy.stats import sem"
   ]
  },
  {
   "cell_type": "code",
   "execution_count": 85,
   "metadata": {},
   "outputs": [
    {
     "data": {
      "text/html": [
       "<div>\n",
       "<style scoped>\n",
       "    .dataframe tbody tr th:only-of-type {\n",
       "        vertical-align: middle;\n",
       "    }\n",
       "\n",
       "    .dataframe tbody tr th {\n",
       "        vertical-align: top;\n",
       "    }\n",
       "\n",
       "    .dataframe thead th {\n",
       "        text-align: right;\n",
       "    }\n",
       "</style>\n",
       "<table border=\"1\" class=\"dataframe\">\n",
       "  <thead>\n",
       "    <tr style=\"text-align: right;\">\n",
       "      <th></th>\n",
       "      <th>StudentID</th>\n",
       "      <th>Age</th>\n",
       "      <th>Gender</th>\n",
       "      <th>Ethnicity</th>\n",
       "      <th>ParentalEducation</th>\n",
       "      <th>StudyTimeWeekly</th>\n",
       "      <th>Absences</th>\n",
       "      <th>Tutoring</th>\n",
       "      <th>ParentalSupport</th>\n",
       "      <th>Extracurricular</th>\n",
       "      <th>Sports</th>\n",
       "      <th>Music</th>\n",
       "      <th>Volunteering</th>\n",
       "      <th>GPA</th>\n",
       "      <th>GradeClass</th>\n",
       "    </tr>\n",
       "  </thead>\n",
       "  <tbody>\n",
       "    <tr>\n",
       "      <th>0</th>\n",
       "      <td>1001</td>\n",
       "      <td>17</td>\n",
       "      <td>1</td>\n",
       "      <td>0</td>\n",
       "      <td>2</td>\n",
       "      <td>19.833723</td>\n",
       "      <td>7</td>\n",
       "      <td>1</td>\n",
       "      <td>2</td>\n",
       "      <td>0</td>\n",
       "      <td>0</td>\n",
       "      <td>1</td>\n",
       "      <td>0</td>\n",
       "      <td>2.929196</td>\n",
       "      <td>2.0</td>\n",
       "    </tr>\n",
       "    <tr>\n",
       "      <th>1</th>\n",
       "      <td>1002</td>\n",
       "      <td>18</td>\n",
       "      <td>0</td>\n",
       "      <td>0</td>\n",
       "      <td>1</td>\n",
       "      <td>15.408756</td>\n",
       "      <td>0</td>\n",
       "      <td>0</td>\n",
       "      <td>1</td>\n",
       "      <td>0</td>\n",
       "      <td>0</td>\n",
       "      <td>0</td>\n",
       "      <td>0</td>\n",
       "      <td>3.042915</td>\n",
       "      <td>1.0</td>\n",
       "    </tr>\n",
       "    <tr>\n",
       "      <th>2</th>\n",
       "      <td>1003</td>\n",
       "      <td>15</td>\n",
       "      <td>0</td>\n",
       "      <td>2</td>\n",
       "      <td>3</td>\n",
       "      <td>4.210570</td>\n",
       "      <td>26</td>\n",
       "      <td>0</td>\n",
       "      <td>2</td>\n",
       "      <td>0</td>\n",
       "      <td>0</td>\n",
       "      <td>0</td>\n",
       "      <td>0</td>\n",
       "      <td>0.112602</td>\n",
       "      <td>4.0</td>\n",
       "    </tr>\n",
       "    <tr>\n",
       "      <th>3</th>\n",
       "      <td>1004</td>\n",
       "      <td>17</td>\n",
       "      <td>1</td>\n",
       "      <td>0</td>\n",
       "      <td>3</td>\n",
       "      <td>10.028829</td>\n",
       "      <td>14</td>\n",
       "      <td>0</td>\n",
       "      <td>3</td>\n",
       "      <td>1</td>\n",
       "      <td>0</td>\n",
       "      <td>0</td>\n",
       "      <td>0</td>\n",
       "      <td>2.054218</td>\n",
       "      <td>3.0</td>\n",
       "    </tr>\n",
       "    <tr>\n",
       "      <th>4</th>\n",
       "      <td>1005</td>\n",
       "      <td>17</td>\n",
       "      <td>1</td>\n",
       "      <td>0</td>\n",
       "      <td>2</td>\n",
       "      <td>4.672495</td>\n",
       "      <td>17</td>\n",
       "      <td>1</td>\n",
       "      <td>3</td>\n",
       "      <td>0</td>\n",
       "      <td>0</td>\n",
       "      <td>0</td>\n",
       "      <td>0</td>\n",
       "      <td>1.288061</td>\n",
       "      <td>4.0</td>\n",
       "    </tr>\n",
       "    <tr>\n",
       "      <th>...</th>\n",
       "      <td>...</td>\n",
       "      <td>...</td>\n",
       "      <td>...</td>\n",
       "      <td>...</td>\n",
       "      <td>...</td>\n",
       "      <td>...</td>\n",
       "      <td>...</td>\n",
       "      <td>...</td>\n",
       "      <td>...</td>\n",
       "      <td>...</td>\n",
       "      <td>...</td>\n",
       "      <td>...</td>\n",
       "      <td>...</td>\n",
       "      <td>...</td>\n",
       "      <td>...</td>\n",
       "    </tr>\n",
       "    <tr>\n",
       "      <th>2387</th>\n",
       "      <td>3388</td>\n",
       "      <td>18</td>\n",
       "      <td>1</td>\n",
       "      <td>0</td>\n",
       "      <td>3</td>\n",
       "      <td>10.680555</td>\n",
       "      <td>2</td>\n",
       "      <td>0</td>\n",
       "      <td>4</td>\n",
       "      <td>1</td>\n",
       "      <td>0</td>\n",
       "      <td>0</td>\n",
       "      <td>0</td>\n",
       "      <td>3.455509</td>\n",
       "      <td>0.0</td>\n",
       "    </tr>\n",
       "    <tr>\n",
       "      <th>2388</th>\n",
       "      <td>3389</td>\n",
       "      <td>17</td>\n",
       "      <td>0</td>\n",
       "      <td>0</td>\n",
       "      <td>1</td>\n",
       "      <td>7.583217</td>\n",
       "      <td>4</td>\n",
       "      <td>1</td>\n",
       "      <td>4</td>\n",
       "      <td>0</td>\n",
       "      <td>1</td>\n",
       "      <td>0</td>\n",
       "      <td>0</td>\n",
       "      <td>3.279150</td>\n",
       "      <td>4.0</td>\n",
       "    </tr>\n",
       "    <tr>\n",
       "      <th>2389</th>\n",
       "      <td>3390</td>\n",
       "      <td>16</td>\n",
       "      <td>1</td>\n",
       "      <td>0</td>\n",
       "      <td>2</td>\n",
       "      <td>6.805500</td>\n",
       "      <td>20</td>\n",
       "      <td>0</td>\n",
       "      <td>2</td>\n",
       "      <td>0</td>\n",
       "      <td>0</td>\n",
       "      <td>0</td>\n",
       "      <td>1</td>\n",
       "      <td>1.142333</td>\n",
       "      <td>2.0</td>\n",
       "    </tr>\n",
       "    <tr>\n",
       "      <th>2390</th>\n",
       "      <td>3391</td>\n",
       "      <td>16</td>\n",
       "      <td>1</td>\n",
       "      <td>1</td>\n",
       "      <td>0</td>\n",
       "      <td>12.416653</td>\n",
       "      <td>17</td>\n",
       "      <td>0</td>\n",
       "      <td>2</td>\n",
       "      <td>0</td>\n",
       "      <td>1</td>\n",
       "      <td>1</td>\n",
       "      <td>0</td>\n",
       "      <td>1.803297</td>\n",
       "      <td>1.0</td>\n",
       "    </tr>\n",
       "    <tr>\n",
       "      <th>2391</th>\n",
       "      <td>3392</td>\n",
       "      <td>16</td>\n",
       "      <td>1</td>\n",
       "      <td>0</td>\n",
       "      <td>2</td>\n",
       "      <td>17.819907</td>\n",
       "      <td>13</td>\n",
       "      <td>0</td>\n",
       "      <td>2</td>\n",
       "      <td>0</td>\n",
       "      <td>0</td>\n",
       "      <td>0</td>\n",
       "      <td>1</td>\n",
       "      <td>2.140014</td>\n",
       "      <td>1.0</td>\n",
       "    </tr>\n",
       "  </tbody>\n",
       "</table>\n",
       "<p>2392 rows × 15 columns</p>\n",
       "</div>"
      ],
      "text/plain": [
       "      StudentID  Age  Gender  Ethnicity  ParentalEducation  StudyTimeWeekly  \\\n",
       "0          1001   17       1          0                  2        19.833723   \n",
       "1          1002   18       0          0                  1        15.408756   \n",
       "2          1003   15       0          2                  3         4.210570   \n",
       "3          1004   17       1          0                  3        10.028829   \n",
       "4          1005   17       1          0                  2         4.672495   \n",
       "...         ...  ...     ...        ...                ...              ...   \n",
       "2387       3388   18       1          0                  3        10.680555   \n",
       "2388       3389   17       0          0                  1         7.583217   \n",
       "2389       3390   16       1          0                  2         6.805500   \n",
       "2390       3391   16       1          1                  0        12.416653   \n",
       "2391       3392   16       1          0                  2        17.819907   \n",
       "\n",
       "      Absences  Tutoring  ParentalSupport  Extracurricular  Sports  Music  \\\n",
       "0            7         1                2                0       0      1   \n",
       "1            0         0                1                0       0      0   \n",
       "2           26         0                2                0       0      0   \n",
       "3           14         0                3                1       0      0   \n",
       "4           17         1                3                0       0      0   \n",
       "...        ...       ...              ...              ...     ...    ...   \n",
       "2387         2         0                4                1       0      0   \n",
       "2388         4         1                4                0       1      0   \n",
       "2389        20         0                2                0       0      0   \n",
       "2390        17         0                2                0       1      1   \n",
       "2391        13         0                2                0       0      0   \n",
       "\n",
       "      Volunteering       GPA  GradeClass  \n",
       "0                0  2.929196         2.0  \n",
       "1                0  3.042915         1.0  \n",
       "2                0  0.112602         4.0  \n",
       "3                0  2.054218         3.0  \n",
       "4                0  1.288061         4.0  \n",
       "...            ...       ...         ...  \n",
       "2387             0  3.455509         0.0  \n",
       "2388             0  3.279150         4.0  \n",
       "2389             1  1.142333         2.0  \n",
       "2390             0  1.803297         1.0  \n",
       "2391             1  2.140014         1.0  \n",
       "\n",
       "[2392 rows x 15 columns]"
      ]
     },
     "execution_count": 85,
     "metadata": {},
     "output_type": "execute_result"
    }
   ],
   "source": [
    "df = pd.read_csv('./data/Student_performance_data.csv')\n",
    "df"
   ]
  },
  {
   "cell_type": "markdown",
   "metadata": {},
   "source": [
    "### **Uso de 'GPA' como Variable Objetivo**\n",
    "\n",
    "'GPA' vs. 'GradeClass':\n",
    "\n",
    "**'GPA'**: El GPA (Grade Point Average) es una medida continua que refleja el promedio de calificaciones de un estudiante en una escala numérica. Es una representación más precisa y granular del rendimiento académico del estudiante.\n",
    "**'GradeClass'**: Esta variable, si bien también mide el rendimiento académico, lo hace de manera categórica, agrupando a los estudiantes en clases o rangos de calificaciones.\n",
    "\n",
    "Razón para elegir 'GPA':\n",
    "\n",
    "* Al usar el GPA, obtenemos una medida continua que permite una mayor precisión en los análisis estadísticos. Las diferencias en el rendimiento académico se pueden capturar con mayor exactitud que con una variable categórica.\n",
    "\n",
    "* Muchas de las pruebas estadísticas empleadas (como las correlaciones de Pearson y Spearman, y la prueba t) funcionan mejor con datos continuos y proporcionan resultados mas significativos."
   ]
  },
  {
   "cell_type": "markdown",
   "metadata": {},
   "source": [
    "## **<u> Planteamiento de hipotesis </u>**"
   ]
  },
  {
   "cell_type": "markdown",
   "metadata": {},
   "source": [
    "### **1. En relación a la variable StudyTimeWeekly**\n",
    "* **H0**: No hay una relación de proporcionalidad directa entre el tiempo semanal de estudio y las notas de los alumnos (cuanto mas estudio, mejores notas)\n",
    "* **H1**: Hay una relación de proporcionalidad directa entre el tiempo semanal de estudio y las notas de los alumnos (cuanto mas estudio, mejores notas)"
   ]
  },
  {
   "cell_type": "code",
   "execution_count": 86,
   "metadata": {},
   "outputs": [
    {
     "name": "stdout",
     "output_type": "stream",
     "text": [
      "Correlación de Pearson: 0.179, p_value: 0.000\n",
      "H1 <> Hay una relación significativa entre el tiempo semanal de estudio y las notas.\n"
     ]
    }
   ],
   "source": [
    "# Prueba de correlación de Pearson (StudyTimeWeekly-GPA)\n",
    "\n",
    "corr, p_value = pearsonr(df['StudyTimeWeekly'], df['GPA'])\n",
    "\n",
    "print(f'Correlación de Pearson: {corr:.3f}, p_value: {p_value:.3f}')\n",
    "\n",
    "if p_value < 0.05:\n",
    "    print(\"H1 <> Hay una relación significativa entre el tiempo semanal de estudio y las notas.\")\n",
    "else:\n",
    "    print(\"H0 <> No hay una relación significativa entre el tiempo semanal de estudio y las notas.\")"
   ]
  },
  {
   "cell_type": "markdown",
   "metadata": {},
   "source": [
    "### **2. En relación a la variable Absences**\n",
    "* **H0**: No hay una relación de proporcionalidad inversa entre el numero de ausencias las notas de los alumnos (cuanto mas absencias, peores notas)\n",
    "* **H1**: Hay una relación de proporcionalidad inversa entre el numero de ausencias las notas de los alumnos (cuanto mas absencias, peores notas)"
   ]
  },
  {
   "cell_type": "code",
   "execution_count": 87,
   "metadata": {},
   "outputs": [
    {
     "name": "stdout",
     "output_type": "stream",
     "text": [
      "Correlación de Spearman: -0.925, p_value: 0.000\n",
      "H1 <> Hay una relación significativa entre el número de ausencias y las notas.\n"
     ]
    }
   ],
   "source": [
    "# Prueba de correlación de Spearman (Absences-GPA)\n",
    "\n",
    "corr, p_value = spearmanr(df['Absences'], df['GPA'])\n",
    "\n",
    "print(f'Correlación de Spearman: {corr:.3f}, p_value: {p_value:.3f}')\n",
    "if p_value < 0.05:\n",
    "    print(\"H1 <> Hay una relación significativa entre el número de ausencias y las notas.\")\n",
    "else:\n",
    "    print(\"H0 <> No hay una relación significativa entre el número de ausencias y las notas.\")"
   ]
  },
  {
   "cell_type": "markdown",
   "metadata": {},
   "source": [
    "### **3. En relación a la variable Gender**\n",
    "* **H0**: No hay diferencias significativas en las notas de hombres y mujeres\n",
    "* **H1**: Hay diferencias significativas en las notas de hombres y mujeres"
   ]
  },
  {
   "cell_type": "code",
   "execution_count": 88,
   "metadata": {},
   "outputs": [
    {
     "name": "stdout",
     "output_type": "stream",
     "text": [
      "t_stat: 0.653, p_value: 0.514\n",
      "H0 <> No hay diferencias significativas en las notas entre hombres y mujeres.\n"
     ]
    }
   ],
   "source": [
    "# Prueba t de muestras independientes (Gender-GPA)\n",
    "\n",
    "# Dividir en grupos por género\n",
    "df_male = df[df['Gender'] == 0]['GPA']\n",
    "df_female = df[df['Gender'] == 1]['GPA']\n",
    "\n",
    "# Prueba t de muestras independientes\n",
    "t_stat, p_value = ttest_ind(df_male, df_female, equal_var=False)\n",
    "\n",
    "print(f't_stat: {t_stat:.3f}, p_value: {p_value:.3f}')\n",
    "if p_value < 0.05:\n",
    "    print(\"H1 <> Hay diferencias significativas en las notas entre hombres y mujeres.\")\n",
    "else:\n",
    "    print(\"H0 <> No hay diferencias significativas en las notas entre hombres y mujeres.\")"
   ]
  },
  {
   "cell_type": "markdown",
   "metadata": {},
   "source": [
    "### **4. En relación a la variable Ethnicity**\n",
    "* **H0**: No hay diferencias significativas en las notas alumnos de diferentes etnias\n",
    "* **H1**: Hay diferencias significativas en las notas alumnos de diferentes etnias"
   ]
  },
  {
   "cell_type": "code",
   "execution_count": 89,
   "metadata": {},
   "outputs": [
    {
     "name": "stdout",
     "output_type": "stream",
     "text": [
      "f_stat: 0.958, p_value: 0.412\n",
      "H0 <> No hay diferencias significativas en las notas entre diferentes etnias.\n"
     ]
    }
   ],
   "source": [
    "# Prueba ANOVA de una vía\n",
    "\n",
    "# Dividir en grupos por etnicidad\n",
    "ethnic_groups = df['Ethnicity'].unique()\n",
    "groups = [df[df['Ethnicity'] == group]['GPA'] for group in ethnic_groups]\n",
    "\n",
    "# ANOVA de una vía\n",
    "f_stat, p_value = f_oneway(*groups)\n",
    "\n",
    "print(f'f_stat: {f_stat:.3f}, p_value: {p_value:.3f}')\n",
    "if p_value < 0.05:\n",
    "    print(\"H1 <> Hay diferencias significativas en las notas entre diferentes etnias.\")\n",
    "else:\n",
    "    print(\"H0 <> No hay diferencias significativas en las notas entre diferentes etnias.\")"
   ]
  },
  {
   "cell_type": "markdown",
   "metadata": {},
   "source": [
    "### **5. En relación a la variable ParentalEducation**\n",
    "* **H0**: No hay diferencias significativas en las notas de los alumnos según el nuvel de educación parental\n",
    "* **H1**: Hay diferencias significativas en las notas de los alumnos según el nuvel de educación parental"
   ]
  },
  {
   "cell_type": "code",
   "execution_count": 90,
   "metadata": {},
   "outputs": [
    {
     "name": "stdout",
     "output_type": "stream",
     "text": [
      "f_stat: 1.808, p_value: 0.124\n",
      "H0 <> No hay evidencia suficiente de diferencias significativas en las notas según el nivel de educación parental.\n"
     ]
    }
   ],
   "source": [
    "# Prueba ANOVA de una vía\n",
    "\n",
    "# Dividir en grupos por educación parental\n",
    "education_levels = df['ParentalEducation'].unique()\n",
    "groups = [df[df['ParentalEducation'] == level]['GPA'] for level in education_levels]\n",
    "\n",
    "# ANOVA de una vía\n",
    "f_stat, p_value = f_oneway(*groups)\n",
    "print(f'f_stat: {f_stat:.3f}, p_value: {p_value:.3f}')\n",
    "\n",
    "if p_value < 0.05:\n",
    "    print(\"H1 <> Existen diferencias significativas en las notas según el nivel de educación parental.\")\n",
    "else:\n",
    "    print(\"H0 <> No hay evidencia suficiente de diferencias significativas en las notas según el nivel de educación parental.\")"
   ]
  },
  {
   "cell_type": "markdown",
   "metadata": {},
   "source": [
    "### **6. En relación a la variable Tutoring**\n",
    "* **H0**: No hay diferencias significativas en las notas de los alumnos que tienen tutor y los que no\n",
    "* **H1**: Hay diferencias significativas en las notas de los alumnos que tienen tutor y los que no"
   ]
  },
  {
   "cell_type": "code",
   "execution_count": 91,
   "metadata": {},
   "outputs": [
    {
     "name": "stdout",
     "output_type": "stream",
     "text": [
      "t_stat: 7.172, p_value: 0.000\n",
      "H1 <> Los alumnos con tutor tienen significativamente mejores notas.\n"
     ]
    }
   ],
   "source": [
    "# Prueba t de muestras independientes (Tutoring-GPA)\n",
    "\n",
    "# Dividir en grupos por tutoría\n",
    "df_tutored = df[df['Tutoring'] == 1]['GPA']\n",
    "df_no_tutored = df[df['Tutoring'] == 0]['GPA']\n",
    "\n",
    "# Prueba t de muestras independientes\n",
    "t_stat, p_value = ttest_ind(df_tutored, df_no_tutored, equal_var=False)\n",
    "\n",
    "print(f't_stat: {t_stat:.3f}, p_value: {p_value:.3f}')\n",
    "if p_value < 0.05:\n",
    "    print(\"H1 <> Los alumnos con tutor tienen significativamente mejores notas.\")\n",
    "else:\n",
    "    print(\"H0 <> No hay diferencias significativas en las notas entre los alumnos con tutoría y los que no.\")"
   ]
  },
  {
   "cell_type": "markdown",
   "metadata": {},
   "source": [
    "### **7. En relación a la variable ParentalSupport**\n",
    "* **H0**: No hay una relación significativa entre el soporte parental y las notas\n",
    "* **H1**: Hay una relación significativa entre el soporte parental y las notas"
   ]
  },
  {
   "cell_type": "code",
   "execution_count": 92,
   "metadata": {},
   "outputs": [
    {
     "name": "stdout",
     "output_type": "stream",
     "text": [
      "Correlación de Pearson: 0.191, p_value: 0.000\n",
      "H1 <> Existe una relación significativa entre el soporte parental y las notas.\n"
     ]
    }
   ],
   "source": [
    "# Prueba de correlación de Pearson (ParentalSupport-GPA)\n",
    "\n",
    "corr, p_value = pearsonr(df['ParentalSupport'], df['GPA'])\n",
    "print(f'Correlación de Pearson: {corr:.3f}, p_value: {p_value:.3f}')\n",
    "\n",
    "if p_value < 0.05:\n",
    "    print(\"H1 <> Existe una relación significativa entre el soporte parental y las notas.\")\n",
    "else:\n",
    "    print(\"H0 <> No hay evidencia suficiente de una relación significativa entre el soporte parental y las notas.\")"
   ]
  },
  {
   "cell_type": "markdown",
   "metadata": {},
   "source": [
    "### **8. En relación a la variable Extracurricular**\n",
    "* **H0**: No hay diferencias significativas en las notas de los alumnos que hacen actividades extracurriculares y los que no\n",
    "* **H1**: Hay diferencias significativas en las notas de los alumnos que hacen actividades extracurriculares y los que no"
   ]
  },
  {
   "cell_type": "code",
   "execution_count": 93,
   "metadata": {},
   "outputs": [
    {
     "name": "stdout",
     "output_type": "stream",
     "text": [
      "t_stat: 4.609, p_value: 0.000\n",
      "H1 <> Existen diferencias significativas en las notas entre los alumnos que hacen actividades extracurriculares y los que no.\n"
     ]
    }
   ],
   "source": [
    "# Prueba t de muestras independientes (Extracurricular-GPA)\n",
    "\n",
    "extracurricular_grades = df[df['Extracurricular'] == 1]['GPA']\n",
    "no_extracurricular_grades = df[df['Extracurricular'] == 0]['GPA']\n",
    "\n",
    "t_stat, p_value = ttest_ind(extracurricular_grades, no_extracurricular_grades, equal_var=False)\n",
    "print(f't_stat: {t_stat:.3f}, p_value: {p_value:.3f}')\n",
    "\n",
    "if p_value < 0.05:\n",
    "    print(\"H1 <> Existen diferencias significativas en las notas entre los alumnos que hacen actividades extracurriculares y los que no.\")\n",
    "else:\n",
    "    print(\"H0 <> No hay evidencia suficiente de diferencias significativas en las notas entre los alumnos que hacen actividades extracurriculares y los que no.\")"
   ]
  },
  {
   "cell_type": "markdown",
   "metadata": {},
   "source": [
    "### **9. En relación a la variable Sports**\n",
    "* **H0**: No hay diferencias significativas en las notas de los alumnos que practican deporte y los que no\n",
    "* **H1**: Hay diferencias significativas en las notas de los alumnos que practican deporte y los que no"
   ]
  },
  {
   "cell_type": "code",
   "execution_count": 94,
   "metadata": {},
   "outputs": [
    {
     "name": "stdout",
     "output_type": "stream",
     "text": [
      "t_stat: 2.851, p_value: 0.004\n",
      "H1 <> Existen diferencias significativas en las notas entre los alumnos que practican deporte y los que no.\n"
     ]
    }
   ],
   "source": [
    "# Prueba t de muestras independientes (Sports-GPA)\n",
    "\n",
    "sports_grades = df[df['Sports'] == 1]['GPA']\n",
    "no_sports_grades = df[df['Sports'] == 0]['GPA']\n",
    "\n",
    "t_stat, p_value = ttest_ind(sports_grades, no_sports_grades, equal_var=False)\n",
    "print(f't_stat: {t_stat:.3f}, p_value: {p_value:.3f}')\n",
    "\n",
    "if p_value < 0.05:\n",
    "    print(\"H1 <> Existen diferencias significativas en las notas entre los alumnos que practican deporte y los que no.\")\n",
    "else:\n",
    "    print(\"H0 <> No hay evidencia suficiente de diferencias significativas en las notas entre los alumnos que practican deporte y los que no.\")"
   ]
  },
  {
   "cell_type": "markdown",
   "metadata": {},
   "source": [
    "### **10. En relación a la variable Music**\n",
    "* **H0**: No hay diferencias significativas en las notas de los alumnos que practican musica y los que no\n",
    "* **H1**: Hay diferencias significativas en las notas de los alumnos que practican musica y los que no"
   ]
  },
  {
   "cell_type": "code",
   "execution_count": 95,
   "metadata": {},
   "outputs": [
    {
     "name": "stdout",
     "output_type": "stream",
     "text": [
      "t_stat: 3.597, p_value: 0.000\n",
      "H1 <> Existen diferencias significativas en las notas entre los alumnos que practican música y los que no.\n"
     ]
    }
   ],
   "source": [
    "# Prueba t de muestras independientes (Music-GPA)\n",
    "\n",
    "music_grades = df[df['Music'] == 1]['GPA']\n",
    "no_music_grades = df[df['Music'] == 0]['GPA']\n",
    "\n",
    "t_stat, p_value = ttest_ind(music_grades, no_music_grades, equal_var=False)\n",
    "print(f't_stat: {t_stat:.3f}, p_value: {p_value:.3f}')\n",
    "\n",
    "if p_value < 0.05:\n",
    "    print(\"H1 <> Existen diferencias significativas en las notas entre los alumnos que practican música y los que no.\")\n",
    "else:\n",
    "    print(\"H0 <> No hay evidencia suficiente de diferencias significativas en las notas entre los alumnos que practican música y los que no.\")"
   ]
  },
  {
   "cell_type": "markdown",
   "metadata": {},
   "source": [
    "### **11. En relación a la variable Volunteering**\n",
    "* **H0**: No hay diferencias significativas en las notas de los alumnos que hacen voluntariado y los que no\n",
    "* **H1**: Hay diferencias significativas en las notas de los alumnos que hacen voluntariado y los que no"
   ]
  },
  {
   "cell_type": "code",
   "execution_count": 96,
   "metadata": {},
   "outputs": [
    {
     "name": "stdout",
     "output_type": "stream",
     "text": [
      "t_stat: 0.161, p_value: 0.872\n",
      "H0 <> No hay evidencia suficiente de diferencias significativas en las notas entre los alumnos que hacen voluntariado y los que no.\n"
     ]
    }
   ],
   "source": [
    "# Prueba t de muestras independientes (Volunteering-GPA)\n",
    "\n",
    "volunteering_grades = df[df['Volunteering'] == 1]['GPA']\n",
    "no_volunteering_grades = df[df['Volunteering'] == 0]['GPA']\n",
    "\n",
    "t_stat, p_value = ttest_ind(volunteering_grades, no_volunteering_grades, equal_var=False)\n",
    "print(f't_stat: {t_stat:.3f}, p_value: {p_value:.3f}')\n",
    "\n",
    "if p_value < 0.05:\n",
    "    print(\"H1 <> Existen diferencias significativas en las notas entre los alumnos que hacen voluntariado y los que no.\")\n",
    "else:\n",
    "    print(\"H0 <> No hay evidencia suficiente de diferencias significativas en las notas entre los alumnos que hacen voluntariado y los que no.\")"
   ]
  }
 ],
 "metadata": {
  "kernelspec": {
   "display_name": "Python 3",
   "language": "python",
   "name": "python3"
  },
  "language_info": {
   "codemirror_mode": {
    "name": "ipython",
    "version": 3
   },
   "file_extension": ".py",
   "mimetype": "text/x-python",
   "name": "python",
   "nbconvert_exporter": "python",
   "pygments_lexer": "ipython3",
   "version": "3.12.4"
  }
 },
 "nbformat": 4,
 "nbformat_minor": 2
}
