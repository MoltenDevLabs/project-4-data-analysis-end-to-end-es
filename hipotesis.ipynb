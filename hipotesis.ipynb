{
 "cells": [
  {
   "cell_type": "code",
   "execution_count": null,
   "metadata": {},
   "outputs": [],
   "source": [
    "import pandas as pd\n",
    "from scipy.stats import pearsonr, spearmanr, ttest_ind, f_oneway"
   ]
  },
  {
   "cell_type": "code",
   "execution_count": null,
   "metadata": {},
   "outputs": [],
   "source": [
    "df = pd.read_csv('./data/Student_performance_data.csv')\n",
    "df"
   ]
  },
  {
   "cell_type": "markdown",
   "metadata": {},
   "source": [
    "## **<u>Uso de 'GPA' como Variable Objetivo</u>**\n",
    "\n",
    "**Razón para elegir 'GPA' sobre 'GradeClass'**:\n",
    "\n",
    "* Al usar el GPA, obtenemos una medida continua que permite una mayor precisión en los análisis estadísticos. Las diferencias en el rendimiento académico se pueden capturar con mayor exactitud que con una variable categórica.\n",
    "\n",
    "* Muchas de las pruebas estadísticas empleadas (como las correlaciones de Pearson y Spearman, y la prueba t) funcionan mejor con datos continuos y proporcionan resultados más significativos."
   ]
  },
  {
   "cell_type": "markdown",
   "metadata": {},
   "source": [
    "## **<u>Justificación de las pruebas estadísticas utilizadas</u>**\n",
    "\n",
    "**1. Correlación de Pearson:** La correlación de Pearson mide la relación lineal entre dos variables continuas. Esta prueba permite determinar si existe una relación directa y significativa entre el tiempo de estudio y las notas.\n",
    "\n",
    "* Ha sido usada para las siguentes variables: **'StudyTimeWeekly', 'ParentalSupport'**\n",
    "\n",
    "**2. Correlación de Spearman:** La correlación de Spearman mide la relación monotónica entre dos variables, que no necesariamente tienen que se lineales. Es útil cuando la relación entre las variables no es estrictamente lineal.\n",
    "\n",
    "* Ha sido usada en las siguientes variables: **'Absences'**\n",
    "\n",
    "**3. Prueba t de muestras independientes:** La prueba t de muestras independientes compara las medias de dos grupos para ver si hay una diferencia significativa entre ellos. Es adecuada para comparar las variables categóricas binarias con una variable continua.\n",
    "\n",
    "* Ha sido usada en las siguientes variables: **'Gender', 'Tutoring', 'Extracurricular', 'Sports', 'Music', 'Volunteering'**\n",
    "\n",
    "**4. ANOVA (Análisis de varianza) de un factor:** ANOVA es apropiada para comparar las medias de tres o más grupos para determinar si al menos una de las medias es significativamente diferente de las demás. Es adecuada para comparar variables categóricas politómicas con una variable continua.\n",
    "\n",
    "* Ha sido usada en las siguientes variables: **'Ethnicity', 'ParentalEducation'**\n",
    "\n",
    "#### En resumen:\n",
    "* **Pearson:** Relaciones lineales entre variables continuas.\n",
    "* **Spearman:** Relaciones monotónicas sin necesidad que sean lineales.\n",
    "* **t:** variable categórica binómica y variable continua.\n",
    "* **ANOVA:** variable categórica politómica y variable continua."
   ]
  },
  {
   "cell_type": "markdown",
   "metadata": {},
   "source": [
    "## **<u> Planteamiento de hipotesis </u>**"
   ]
  },
  {
   "cell_type": "markdown",
   "metadata": {},
   "source": [
    "### **1. En relación a la variable StudyTimeWeekly**\n",
    "* **H0**: No hay una relación de proporcionalidad directa entre el tiempo semanal de estudio y las notas de los alumnos (cuanto mas estudio, mejores notas)\n",
    "* **H1**: Hay una relación de proporcionalidad directa entre el tiempo semanal de estudio y las notas de los alumnos (cuanto mas estudio, mejores notas)"
   ]
  },
  {
   "cell_type": "code",
   "execution_count": null,
   "metadata": {},
   "outputs": [],
   "source": [
    "# Prueba de correlación de Pearson para StudyTimeWeekly\n",
    "\n",
    "corr, p_value = pearsonr(df['StudyTimeWeekly'], df['GPA'])\n",
    "\n",
    "print(f'Correlación de Pearson: {corr:.3f}, p_value: {p_value:.3f}')\n",
    "\n",
    "if p_value < 0.05:\n",
    "    print(\"H1 <> Hay una relación significativa entre el tiempo semanal de estudio y las notas.\")\n",
    "else:\n",
    "    print(\"H0 <> No hay una relación significativa entre el tiempo semanal de estudio y las notas.\")"
   ]
  },
  {
   "cell_type": "markdown",
   "metadata": {},
   "source": [
    "### **2. En relación a la variable Absences**\n",
    "* **H0**: No hay una relación de proporcionalidad inversa entre el numero de ausencias las notas de los alumnos (cuanto mas absencias, peores notas)\n",
    "* **H1**: Hay una relación de proporcionalidad inversa entre el numero de ausencias las notas de los alumnos (cuanto mas absencias, peores notas)"
   ]
  },
  {
   "cell_type": "code",
   "execution_count": 114,
   "metadata": {},
   "outputs": [
    {
     "name": "stdout",
     "output_type": "stream",
     "text": [
      "Correlación de Spearman: -0.925, p_value: 0.000\n",
      "H1 <> Hay una relación significativa entre el número de ausencias y las notas.\n"
     ]
    }
   ],
   "source": [
    "# Prueba de correlación de Spearman para Absences\n",
    "\n",
    "corr, p_value = spearmanr(df['Absences'], df['GPA'])\n",
    "\n",
    "print(f'Correlación de Spearman: {corr:.3f}, p_value: {p_value:.3f}')\n",
    "if p_value < 0.05:\n",
    "    print(\"H1 <> Hay una relación significativa entre el número de ausencias y las notas.\")\n",
    "else:\n",
    "    print(\"H0 <> No hay una relación significativa entre el número de ausencias y las notas.\")"
   ]
  },
  {
   "cell_type": "markdown",
   "metadata": {},
   "source": [
    "### **3. En relación a la variable Gender**\n",
    "* **H0**: No hay diferencias significativas en las notas de hombres y mujeres\n",
    "* **H1**: Hay diferencias significativas en las notas de hombres y mujeres"
   ]
  },
  {
   "cell_type": "code",
   "execution_count": null,
   "metadata": {},
   "outputs": [],
   "source": [
    "# Prueba t de muestras independientes para Gender\n",
    "\n",
    "# Dividir en grupos por género\n",
    "df_male = df[df['Gender'] == 0]['GPA']\n",
    "df_female = df[df['Gender'] == 1]['GPA']\n",
    "\n",
    "# Prueba t de muestras independientes\n",
    "t_stat, p_value = ttest_ind(df_male, df_female, equal_var=False)\n",
    "\n",
    "print(f't_stat: {t_stat:.3f}, p_value: {p_value:.3f}')\n",
    "if p_value < 0.05:\n",
    "    print(\"H1 <> Hay diferencias significativas en las notas entre hombres y mujeres.\")\n",
    "else:\n",
    "    print(\"H0 <> No hay diferencias significativas en las notas entre hombres y mujeres.\")"
   ]
  },
  {
   "cell_type": "markdown",
   "metadata": {},
   "source": [
    "### **4. En relación a la variable Ethnicity**\n",
    "* **H0**: No hay diferencias significativas en las notas alumnos de diferentes etnias\n",
    "* **H1**: Hay diferencias significativas en las notas alumnos de diferentes etnias"
   ]
  },
  {
   "cell_type": "code",
   "execution_count": null,
   "metadata": {},
   "outputs": [],
   "source": [
    "# Prueba ANOVA de una vía para Ethnicity\n",
    "\n",
    "# Dividir en grupos por etnicidad\n",
    "ethnic_groups = df['Ethnicity'].unique()\n",
    "groups = [df[df['Ethnicity'] == group]['GPA'] for group in ethnic_groups]\n",
    "\n",
    "# ANOVA de una vía\n",
    "f_stat, p_value = f_oneway(*groups)\n",
    "\n",
    "print(f'f_stat: {f_stat:.3f}, p_value: {p_value:.3f}')\n",
    "if p_value < 0.05:\n",
    "    print(\"H1 <> Hay diferencias significativas en las notas entre diferentes etnias.\")\n",
    "else:\n",
    "    print(\"H0 <> No hay diferencias significativas en las notas entre diferentes etnias.\")"
   ]
  },
  {
   "cell_type": "markdown",
   "metadata": {},
   "source": [
    "### **5. En relación a la variable ParentalEducation**\n",
    "* **H0**: No hay diferencias significativas en las notas de los alumnos según el nuvel de educación parental\n",
    "* **H1**: Hay diferencias significativas en las notas de los alumnos según el nuvel de educación parental"
   ]
  },
  {
   "cell_type": "code",
   "execution_count": null,
   "metadata": {},
   "outputs": [],
   "source": [
    "# Prueba ANOVA de una vía para ParentalEducation\n",
    "\n",
    "# Dividir en grupos por educación parental\n",
    "education_levels = df['ParentalEducation'].unique()\n",
    "groups = [df[df['ParentalEducation'] == level]['GPA'] for level in education_levels]\n",
    "\n",
    "# ANOVA de una vía\n",
    "f_stat, p_value = f_oneway(*groups)\n",
    "print(f'f_stat: {f_stat:.3f}, p_value: {p_value:.3f}')\n",
    "\n",
    "if p_value < 0.05:\n",
    "    print(\"H1 <> Existen diferencias significativas en las notas según el nivel de educación parental.\")\n",
    "else:\n",
    "    print(\"H0 <> No hay evidencia suficiente de diferencias significativas en las notas según el nivel de educación parental.\")"
   ]
  },
  {
   "cell_type": "markdown",
   "metadata": {},
   "source": [
    "### **6. En relación a la variable Tutoring**\n",
    "* **H0**: No hay diferencias significativas en las notas de los alumnos que tienen tutor y los que no\n",
    "* **H1**: Hay diferencias significativas en las notas de los alumnos que tienen tutor y los que no"
   ]
  },
  {
   "cell_type": "code",
   "execution_count": null,
   "metadata": {},
   "outputs": [],
   "source": [
    "# Prueba t de muestras independientes para Tutoring\n",
    "\n",
    "# Dividir en grupos por tutoría\n",
    "df_tutored = df[df['Tutoring'] == 1]['GPA']\n",
    "df_no_tutored = df[df['Tutoring'] == 0]['GPA']\n",
    "\n",
    "# Prueba t de muestras independientes\n",
    "t_stat, p_value = ttest_ind(df_tutored, df_no_tutored, equal_var=False)\n",
    "\n",
    "print(f't_stat: {t_stat:.3f}, p_value: {p_value:.3f}')\n",
    "if p_value < 0.05:\n",
    "    print(\"H1 <> Los alumnos con tutor tienen significativamente mejores notas.\")\n",
    "else:\n",
    "    print(\"H0 <> No hay diferencias significativas en las notas entre los alumnos con tutoría y los que no.\")"
   ]
  },
  {
   "cell_type": "markdown",
   "metadata": {},
   "source": [
    "### **7. En relación a la variable ParentalSupport**\n",
    "* **H0**: No hay una relación significativa entre el soporte parental y las notas\n",
    "* **H1**: Hay una relación significativa entre el soporte parental y las notas"
   ]
  },
  {
   "cell_type": "code",
   "execution_count": null,
   "metadata": {},
   "outputs": [],
   "source": [
    "# Prueba de correlación de Pearson para ParentalSupport\n",
    "\n",
    "corr, p_value = pearsonr(df['ParentalSupport'], df['GPA'])\n",
    "print(f'Correlación de Pearson: {corr:.3f}, p_value: {p_value:.3f}')\n",
    "\n",
    "if p_value < 0.05:\n",
    "    print(\"H1 <> Existe una relación significativa entre el soporte parental y las notas.\")\n",
    "else:\n",
    "    print(\"H0 <> No hay evidencia suficiente de una relación significativa entre el soporte parental y las notas.\")"
   ]
  },
  {
   "cell_type": "markdown",
   "metadata": {},
   "source": [
    "### **8. En relación a la variable Extracurricular**\n",
    "* **H0**: No hay diferencias significativas en las notas de los alumnos que hacen actividades extracurriculares y los que no\n",
    "* **H1**: Hay diferencias significativas en las notas de los alumnos que hacen actividades extracurriculares y los que no"
   ]
  },
  {
   "cell_type": "code",
   "execution_count": null,
   "metadata": {},
   "outputs": [],
   "source": [
    "# Prueba t de muestras independientes para Extracurricular\n",
    "\n",
    "extracurricular_grades = df[df['Extracurricular'] == 1]['GPA']\n",
    "no_extracurricular_grades = df[df['Extracurricular'] == 0]['GPA']\n",
    "\n",
    "t_stat, p_value = ttest_ind(extracurricular_grades, no_extracurricular_grades, equal_var=False)\n",
    "print(f't_stat: {t_stat:.3f}, p_value: {p_value:.3f}')\n",
    "\n",
    "if p_value < 0.05:\n",
    "    print(\"H1 <> Existen diferencias significativas en las notas entre los alumnos que hacen actividades extracurriculares y los que no.\")\n",
    "else:\n",
    "    print(\"H0 <> No hay evidencia suficiente de diferencias significativas en las notas entre los alumnos que hacen actividades extracurriculares y los que no.\")"
   ]
  },
  {
   "cell_type": "markdown",
   "metadata": {},
   "source": [
    "### **9. En relación a la variable Sports**\n",
    "* **H0**: No hay diferencias significativas en las notas de los alumnos que practican deporte y los que no\n",
    "* **H1**: Hay diferencias significativas en las notas de los alumnos que practican deporte y los que no"
   ]
  },
  {
   "cell_type": "code",
   "execution_count": null,
   "metadata": {},
   "outputs": [],
   "source": [
    "# Prueba t de muestras independientes para Sports\n",
    "\n",
    "sports_grades = df[df['Sports'] == 1]['GPA']\n",
    "no_sports_grades = df[df['Sports'] == 0]['GPA']\n",
    "\n",
    "t_stat, p_value = ttest_ind(sports_grades, no_sports_grades, equal_var=False)\n",
    "print(f't_stat: {t_stat:.3f}, p_value: {p_value:.3f}')\n",
    "\n",
    "if p_value < 0.05:\n",
    "    print(\"H1 <> Existen diferencias significativas en las notas entre los alumnos que practican deporte y los que no.\")\n",
    "else:\n",
    "    print(\"H0 <> No hay evidencia suficiente de diferencias significativas en las notas entre los alumnos que practican deporte y los que no.\")"
   ]
  },
  {
   "cell_type": "markdown",
   "metadata": {},
   "source": [
    "### **10. En relación a la variable Music**\n",
    "* **H0**: No hay diferencias significativas en las notas de los alumnos que practican musica y los que no\n",
    "* **H1**: Hay diferencias significativas en las notas de los alumnos que practican musica y los que no"
   ]
  },
  {
   "cell_type": "code",
   "execution_count": null,
   "metadata": {},
   "outputs": [],
   "source": [
    "# Prueba t de muestras independientes para Music\n",
    "\n",
    "music_grades = df[df['Music'] == 1]['GPA']\n",
    "no_music_grades = df[df['Music'] == 0]['GPA']\n",
    "\n",
    "t_stat, p_value = ttest_ind(music_grades, no_music_grades, equal_var=False)\n",
    "print(f't_stat: {t_stat:.3f}, p_value: {p_value:.3f}')\n",
    "\n",
    "if p_value < 0.05:\n",
    "    print(\"H1 <> Existen diferencias significativas en las notas entre los alumnos que practican música y los que no.\")\n",
    "else:\n",
    "    print(\"H0 <> No hay evidencia suficiente de diferencias significativas en las notas entre los alumnos que practican música y los que no.\")"
   ]
  },
  {
   "cell_type": "markdown",
   "metadata": {},
   "source": [
    "### **11. En relación a la variable Volunteering**\n",
    "* **H0**: No hay diferencias significativas en las notas de los alumnos que hacen voluntariado y los que no\n",
    "* **H1**: Hay diferencias significativas en las notas de los alumnos que hacen voluntariado y los que no"
   ]
  },
  {
   "cell_type": "code",
   "execution_count": null,
   "metadata": {},
   "outputs": [],
   "source": [
    "# Prueba t de muestras independientes para Volunteering\n",
    "\n",
    "volunteering_grades = df[df['Volunteering'] == 1]['GPA']\n",
    "no_volunteering_grades = df[df['Volunteering'] == 0]['GPA']\n",
    "\n",
    "t_stat, p_value = ttest_ind(volunteering_grades, no_volunteering_grades, equal_var=False)\n",
    "print(f't_stat: {t_stat:.3f}, p_value: {p_value:.3f}')\n",
    "\n",
    "if p_value < 0.05:\n",
    "    print(\"H1 <> Existen diferencias significativas en las notas entre los alumnos que hacen voluntariado y los que no.\")\n",
    "else:\n",
    "    print(\"H0 <> No hay evidencia suficiente de diferencias significativas en las notas entre los alumnos que hacen voluntariado y los que no.\")"
   ]
  },
  {
   "cell_type": "markdown",
   "metadata": {},
   "source": [
    "## **<u> Conclusiones </u>**\n",
    "\n",
    "#### **Variables con relación**\n",
    "\n",
    "* Existe una relación significativa entre el tiempo de estudio y las notas.\n",
    "* Existe una relación significativa inversa entre las ausencias y las notas.\n",
    "* Existen diferencias significativas en las notas entre los alumnos que tienen tutor y los que no.\n",
    "* Existe una relación significativa entre el soporte parental y las notas.\n",
    "* Existen diferencias significativas en las notas entre los alumnos que hacen actividades extracurriculares y los que no. ​\n",
    "\n",
    "#### **Variables sin relación**\n",
    "\n",
    "* No hay evidencia suficiente de diferencias significativas en las notas entre hombres y mujeres.\n",
    "* No hay evidencia suficiente de diferencias significativas en las notas entre las diferentes etnias.\n",
    "* No hay evidencia suficiente de diferencias significativas en las notas según el nivel de educación parental."
   ]
  }
 ],
 "metadata": {
  "kernelspec": {
   "display_name": "Python 3",
   "language": "python",
   "name": "python3"
  },
  "language_info": {
   "codemirror_mode": {
    "name": "ipython",
    "version": 3
   },
   "file_extension": ".py",
   "mimetype": "text/x-python",
   "name": "python",
   "nbconvert_exporter": "python",
   "pygments_lexer": "ipython3",
   "version": "3.12.4"
  }
 },
 "nbformat": 4,
 "nbformat_minor": 2
}
